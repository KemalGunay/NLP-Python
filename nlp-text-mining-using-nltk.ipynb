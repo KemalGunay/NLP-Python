{
 "cells": [
  {
   "cell_type": "code",
   "execution_count": 1,
   "id": "8f0af723",
   "metadata": {
    "execution": {
     "iopub.execute_input": "2022-07-02T12:36:25.586393Z",
     "iopub.status.busy": "2022-07-02T12:36:25.585923Z",
     "iopub.status.idle": "2022-07-02T12:36:27.465621Z",
     "shell.execute_reply": "2022-07-02T12:36:27.464413Z"
    },
    "papermill": {
     "duration": 1.914514,
     "end_time": "2022-07-02T12:36:27.468028",
     "exception": false,
     "start_time": "2022-07-02T12:36:25.553514",
     "status": "completed"
    },
    "tags": []
   },
   "outputs": [],
   "source": [
    "# libraries\n",
    "import os\n",
    "import nltk\n",
    "import nltk.corpus"
   ]
  },
  {
   "cell_type": "code",
   "execution_count": 2,
   "id": "77c9aaff",
   "metadata": {
    "execution": {
     "iopub.execute_input": "2022-07-02T12:36:27.503546Z",
     "iopub.status.busy": "2022-07-02T12:36:27.502863Z",
     "iopub.status.idle": "2022-07-02T12:36:27.512392Z",
     "shell.execute_reply": "2022-07-02T12:36:27.510776Z"
    },
    "papermill": {
     "duration": 0.030591,
     "end_time": "2022-07-02T12:36:27.515355",
     "exception": false,
     "start_time": "2022-07-02T12:36:27.484764",
     "status": "completed"
    },
    "tags": []
   },
   "outputs": [
    {
     "name": "stdout",
     "output_type": "stream",
     "text": [
      "['abc', 'crubadan.zip', 'cess_esp.zip', 'europarl_raw', 'omw.zip', 'gutenberg.zip', 'opinion_lexicon', 'conll2000.zip', 'omw', 'conll2002.zip', 'senseval.zip', 'twitter_samples.zip', 'inaugural.zip', 'wordnet_ic', 'biocreative_ppi', 'product_reviews_1', 'sentence_polarity.zip', 'indian.zip', 'crubadan', 'biocreative_ppi.zip', 'rte.zip', 'twitter_samples', 'problem_reports', 'sinica_treebank', 'movie_reviews', 'paradigms.zip', 'pl196x.zip', 'gazetteers', 'stopwords.zip', 'verbnet.zip', 'reuters.zip', 'mac_morpho', 'names.zip', 'shakespeare.zip', 'alpino.zip', 'udhr2', 'opinion_lexicon.zip', 'brown.zip', 'cess_cat', 'stopwords', 'qc', 'smultron.zip', 'masc_tagged.zip', 'genesis', 'unicode_samples', 'verbnet', 'floresta.zip', 'wordnet', 'udhr', 'conll2000', 'chat80', 'movie_reviews.zip', 'ppattach', 'machado.zip', 'treebank', 'ppattach.zip', 'problem_reports.zip', 'inaugural', 'toolbox.zip', 'floresta', 'pil', 'kimmo.zip', 'swadesh.zip', 'mte_teip5', 'ieer', 'switchboard', 'product_reviews_2.zip', 'qc.zip', 'webtext', 'shakespeare', 'dependency_treebank.zip', 'names', 'cess_esp', 'europarl_raw.zip', 'mte_teip5.zip', 'state_union.zip', 'jeita.zip', 'pl196x', 'sentence_polarity', 'conll2007.zip', 'ycoe', 'unicode_samples.zip', 'pil.zip', 'pros_cons.zip', 'lin_thesaurus', 'alpino', 'subjectivity.zip', 'timit.zip', 'udhr.zip', 'kimmo', 'swadesh', 'sinica_treebank.zip', 'rte', 'cess_cat.zip', 'propbank.zip', 'udhr2.zip', 'chat80.zip', 'pros_cons', 'ptb', 'brown_tei.zip', 'sentiwordnet.zip', 'city_database.zip', 'abc.zip', 'wordnet.zip', 'product_reviews_1.zip', 'gutenberg', 'ycoe.zip', 'mac_morpho.zip', 'nps_chat.zip', 'city_database', 'brown_tei', 'lin_thesaurus.zip', 'treebank.zip', 'dependency_treebank', 'state_union', 'ieer.zip', 'cmudict.zip', 'knbc.zip', 'gazetteers.zip', 'timit', 'indian', 'cmudict', 'genesis.zip', 'senseval', 'universal_treebanks_v20.zip', 'switchboard.zip', 'ptb.zip', 'words.zip', 'webtext.zip', 'brown', 'sentiwordnet', 'toolbox', 'product_reviews_2', 'nps_chat', 'wordnet_ic.zip', 'subjectivity', 'words', 'paradigms', 'semcor.zip', 'smultron', 'conll2002', 'comtrans.zip']\n"
     ]
    }
   ],
   "source": [
    "print(os.listdir(nltk.data.find(\"corpora\")))"
   ]
  },
  {
   "cell_type": "code",
   "execution_count": 3,
   "id": "efb658e7",
   "metadata": {
    "execution": {
     "iopub.execute_input": "2022-07-02T12:36:27.573343Z",
     "iopub.status.busy": "2022-07-02T12:36:27.572853Z",
     "iopub.status.idle": "2022-07-02T12:36:27.584560Z",
     "shell.execute_reply": "2022-07-02T12:36:27.583625Z"
    },
    "papermill": {
     "duration": 0.042824,
     "end_time": "2022-07-02T12:36:27.586507",
     "exception": false,
     "start_time": "2022-07-02T12:36:27.543683",
     "status": "completed"
    },
    "tags": []
   },
   "outputs": [
    {
     "data": {
      "text/plain": [
       "['austen-emma.txt',\n",
       " 'austen-persuasion.txt',\n",
       " 'austen-sense.txt',\n",
       " 'bible-kjv.txt',\n",
       " 'blake-poems.txt',\n",
       " 'bryant-stories.txt',\n",
       " 'burgess-busterbrown.txt',\n",
       " 'carroll-alice.txt',\n",
       " 'chesterton-ball.txt',\n",
       " 'chesterton-brown.txt',\n",
       " 'chesterton-thursday.txt',\n",
       " 'edgeworth-parents.txt',\n",
       " 'melville-moby_dick.txt',\n",
       " 'milton-paradise.txt',\n",
       " 'shakespeare-caesar.txt',\n",
       " 'shakespeare-hamlet.txt',\n",
       " 'shakespeare-macbeth.txt',\n",
       " 'whitman-leaves.txt']"
      ]
     },
     "execution_count": 3,
     "metadata": {},
     "output_type": "execute_result"
    }
   ],
   "source": [
    "nltk.corpus.gutenberg.fileids()"
   ]
  },
  {
   "cell_type": "code",
   "execution_count": 4,
   "id": "8f962391",
   "metadata": {
    "execution": {
     "iopub.execute_input": "2022-07-02T12:36:27.622014Z",
     "iopub.status.busy": "2022-07-02T12:36:27.620938Z",
     "iopub.status.idle": "2022-07-02T12:36:27.654267Z",
     "shell.execute_reply": "2022-07-02T12:36:27.653234Z"
    },
    "papermill": {
     "duration": 0.054057,
     "end_time": "2022-07-02T12:36:27.657169",
     "exception": false,
     "start_time": "2022-07-02T12:36:27.603112",
     "status": "completed"
    },
    "tags": []
   },
   "outputs": [
    {
     "data": {
      "text/plain": [
       "['[', 'The', 'Tragedie', 'of', 'Hamlet', 'by', ...]"
      ]
     },
     "execution_count": 4,
     "metadata": {},
     "output_type": "execute_result"
    }
   ],
   "source": [
    "hamlet = nltk.corpus.gutenberg.words('shakespeare-hamlet.txt')\n",
    "hamlet"
   ]
  },
  {
   "cell_type": "code",
   "execution_count": 5,
   "id": "cde962a5",
   "metadata": {
    "execution": {
     "iopub.execute_input": "2022-07-02T12:36:27.692285Z",
     "iopub.status.busy": "2022-07-02T12:36:27.691302Z",
     "iopub.status.idle": "2022-07-02T12:36:27.703193Z",
     "shell.execute_reply": "2022-07-02T12:36:27.701810Z"
    },
    "papermill": {
     "duration": 0.031238,
     "end_time": "2022-07-02T12:36:27.705146",
     "exception": false,
     "start_time": "2022-07-02T12:36:27.673908",
     "status": "completed"
    },
    "tags": []
   },
   "outputs": [
    {
     "name": "stdout",
     "output_type": "stream",
     "text": [
      "[ The Tragedie of Hamlet by William Shakespeare 1599 ] Actus Primus . Scoena Prima . Enter Barnardo and Francisco two Centinels . Barnardo . Who ' s there ? Fran . Nay answer me : Stand & vnfold your selfe Bar . Long liue the King Fran . Barnardo ? Bar . He Fran . You come most carefully vpon your houre Bar . ' Tis now strook twelue , get thee to bed Francisco Fran . For this releefe much thankes : ' Tis bitter cold , And I am sicke at heart Barn . Haue you had quiet Guard ? Fran . Not a Mouse stirring Barn . Well , goodnight . If you do meet Horatio and Marcellus , the Riuals of my Watch , bid them make hast . Enter Horatio and Marcellus . Fran . I thinke I heare them . Stand : who ' s there ? Hor . Friends to this ground Mar . And Leige - men to the Dane Fran . Giue you good night Mar . O farwel honest Soldier , who hath relieu ' d you ? Fra . Barnardo ha ' s my place : giue you goodnight . Exit Fran . Mar . Holla Barnardo Bar . Say , what is Horatio there ? Hor . A peece of him Bar . Welcome Horatio , welcome good Marcellus Mar . What , ha ' s this thing appear ' d againe to night Bar . I haue seene nothing Mar . Horatio saies , ' tis but our Fantasie , And will not let beleefe take hold of him Touching this dreaded sight , twice seene of vs , Therefore I haue intreated him along With vs , to watch the minutes of this Night , That if againe this Apparition come , He may approue our eyes , and speake to it Hor . Tush , tush , ' twill not appeare Bar . Sit downe a - while , And let vs once againe assaile your eares , That are so fortified against our Story , What we two Nights haue seene Hor . Well , sit we downe , And let vs heare Barnardo speake of this Barn . Last night of all , When yond same Starre that ' s Westward from the Pole Had made his course t ' illume that part of Heauen Where now it burnes , Marcellus and my selfe , The Bell then beating one Mar . Peace , breake thee of : Enter the Ghost . Looke where it comes againe Barn . In the same figure , like the King that ' s dead Mar . Thou art a Scholler ; speake to it Horatio Barn . Lookes it not like the King ? Marke it Horatio Hora . Most like : It harrowes me with fear & wonder Barn . It would be spoke too Mar . Question it Horatio Hor . What art "
     ]
    }
   ],
   "source": [
    "for word in hamlet[:500]:\n",
    "    print(word, sep = \" \", end = \" \")"
   ]
  },
  {
   "cell_type": "code",
   "execution_count": 6,
   "id": "c013d6cd",
   "metadata": {
    "execution": {
     "iopub.execute_input": "2022-07-02T12:36:27.739931Z",
     "iopub.status.busy": "2022-07-02T12:36:27.739563Z",
     "iopub.status.idle": "2022-07-02T12:36:27.745080Z",
     "shell.execute_reply": "2022-07-02T12:36:27.744315Z"
    },
    "papermill": {
     "duration": 0.024863,
     "end_time": "2022-07-02T12:36:27.746627",
     "exception": false,
     "start_time": "2022-07-02T12:36:27.721764",
     "status": "completed"
    },
    "tags": []
   },
   "outputs": [],
   "source": [
    "AI = \"Artificial intelligence (AI) refers to the simulation of human intelligence in machines that are programmed to think like humans and mimic their actions. The term may also be applied to any machine that exhibits traits associated with a human mind such as learning and problem-solving. The ideal characteristic of artificial intelligence is its ability to rationalize and take actions that have the best chance of achieving a specific goal. A subset of artificial intelligence is machine learning, which refers to the concept that computer programs can automatically learn from and adapt to new data without being assisted by humans. Deep learning techniques enable this automatic learning through the absorption of huge amounts of unstructured data such as text, images, or video.\""
   ]
  },
  {
   "cell_type": "code",
   "execution_count": 7,
   "id": "6edb3dd8",
   "metadata": {
    "execution": {
     "iopub.execute_input": "2022-07-02T12:36:27.782446Z",
     "iopub.status.busy": "2022-07-02T12:36:27.781825Z",
     "iopub.status.idle": "2022-07-02T12:36:27.788193Z",
     "shell.execute_reply": "2022-07-02T12:36:27.786887Z"
    },
    "papermill": {
     "duration": 0.026456,
     "end_time": "2022-07-02T12:36:27.789940",
     "exception": false,
     "start_time": "2022-07-02T12:36:27.763484",
     "status": "completed"
    },
    "tags": []
   },
   "outputs": [
    {
     "data": {
      "text/plain": [
       "str"
      ]
     },
     "execution_count": 7,
     "metadata": {},
     "output_type": "execute_result"
    }
   ],
   "source": [
    "type(AI)"
   ]
  },
  {
   "cell_type": "code",
   "execution_count": 8,
   "id": "1a68c0ff",
   "metadata": {
    "execution": {
     "iopub.execute_input": "2022-07-02T12:36:27.826301Z",
     "iopub.status.busy": "2022-07-02T12:36:27.825690Z",
     "iopub.status.idle": "2022-07-02T12:36:27.829645Z",
     "shell.execute_reply": "2022-07-02T12:36:27.828827Z"
    },
    "papermill": {
     "duration": 0.024107,
     "end_time": "2022-07-02T12:36:27.831278",
     "exception": false,
     "start_time": "2022-07-02T12:36:27.807171",
     "status": "completed"
    },
    "tags": []
   },
   "outputs": [],
   "source": [
    "from nltk.tokenize import word_tokenize"
   ]
  },
  {
   "cell_type": "code",
   "execution_count": 9,
   "id": "2b14c413",
   "metadata": {
    "execution": {
     "iopub.execute_input": "2022-07-02T12:36:27.867167Z",
     "iopub.status.busy": "2022-07-02T12:36:27.866604Z",
     "iopub.status.idle": "2022-07-02T12:36:27.892317Z",
     "shell.execute_reply": "2022-07-02T12:36:27.891509Z"
    },
    "papermill": {
     "duration": 0.045783,
     "end_time": "2022-07-02T12:36:27.894039",
     "exception": false,
     "start_time": "2022-07-02T12:36:27.848256",
     "status": "completed"
    },
    "tags": []
   },
   "outputs": [
    {
     "data": {
      "text/plain": [
       "['Artificial',\n",
       " 'intelligence',\n",
       " '(',\n",
       " 'AI',\n",
       " ')',\n",
       " 'refers',\n",
       " 'to',\n",
       " 'the',\n",
       " 'simulation',\n",
       " 'of',\n",
       " 'human',\n",
       " 'intelligence',\n",
       " 'in',\n",
       " 'machines',\n",
       " 'that',\n",
       " 'are',\n",
       " 'programmed',\n",
       " 'to',\n",
       " 'think',\n",
       " 'like',\n",
       " 'humans',\n",
       " 'and',\n",
       " 'mimic',\n",
       " 'their',\n",
       " 'actions',\n",
       " '.',\n",
       " 'The',\n",
       " 'term',\n",
       " 'may',\n",
       " 'also',\n",
       " 'be',\n",
       " 'applied',\n",
       " 'to',\n",
       " 'any',\n",
       " 'machine',\n",
       " 'that',\n",
       " 'exhibits',\n",
       " 'traits',\n",
       " 'associated',\n",
       " 'with',\n",
       " 'a',\n",
       " 'human',\n",
       " 'mind',\n",
       " 'such',\n",
       " 'as',\n",
       " 'learning',\n",
       " 'and',\n",
       " 'problem-solving',\n",
       " '.',\n",
       " 'The',\n",
       " 'ideal',\n",
       " 'characteristic',\n",
       " 'of',\n",
       " 'artificial',\n",
       " 'intelligence',\n",
       " 'is',\n",
       " 'its',\n",
       " 'ability',\n",
       " 'to',\n",
       " 'rationalize',\n",
       " 'and',\n",
       " 'take',\n",
       " 'actions',\n",
       " 'that',\n",
       " 'have',\n",
       " 'the',\n",
       " 'best',\n",
       " 'chance',\n",
       " 'of',\n",
       " 'achieving',\n",
       " 'a',\n",
       " 'specific',\n",
       " 'goal',\n",
       " '.',\n",
       " 'A',\n",
       " 'subset',\n",
       " 'of',\n",
       " 'artificial',\n",
       " 'intelligence',\n",
       " 'is',\n",
       " 'machine',\n",
       " 'learning',\n",
       " ',',\n",
       " 'which',\n",
       " 'refers',\n",
       " 'to',\n",
       " 'the',\n",
       " 'concept',\n",
       " 'that',\n",
       " 'computer',\n",
       " 'programs',\n",
       " 'can',\n",
       " 'automatically',\n",
       " 'learn',\n",
       " 'from',\n",
       " 'and',\n",
       " 'adapt',\n",
       " 'to',\n",
       " 'new',\n",
       " 'data',\n",
       " 'without',\n",
       " 'being',\n",
       " 'assisted',\n",
       " 'by',\n",
       " 'humans',\n",
       " '.',\n",
       " 'Deep',\n",
       " 'learning',\n",
       " 'techniques',\n",
       " 'enable',\n",
       " 'this',\n",
       " 'automatic',\n",
       " 'learning',\n",
       " 'through',\n",
       " 'the',\n",
       " 'absorption',\n",
       " 'of',\n",
       " 'huge',\n",
       " 'amounts',\n",
       " 'of',\n",
       " 'unstructured',\n",
       " 'data',\n",
       " 'such',\n",
       " 'as',\n",
       " 'text',\n",
       " ',',\n",
       " 'images',\n",
       " ',',\n",
       " 'or',\n",
       " 'video',\n",
       " '.']"
      ]
     },
     "execution_count": 9,
     "metadata": {},
     "output_type": "execute_result"
    }
   ],
   "source": [
    "AI_tokens = word_tokenize(AI)\n",
    "AI_tokens"
   ]
  },
  {
   "cell_type": "code",
   "execution_count": 10,
   "id": "dc880665",
   "metadata": {
    "execution": {
     "iopub.execute_input": "2022-07-02T12:36:27.930125Z",
     "iopub.status.busy": "2022-07-02T12:36:27.929560Z",
     "iopub.status.idle": "2022-07-02T12:36:27.935043Z",
     "shell.execute_reply": "2022-07-02T12:36:27.934100Z"
    },
    "papermill": {
     "duration": 0.025736,
     "end_time": "2022-07-02T12:36:27.936793",
     "exception": false,
     "start_time": "2022-07-02T12:36:27.911057",
     "status": "completed"
    },
    "tags": []
   },
   "outputs": [
    {
     "data": {
      "text/plain": [
       "131"
      ]
     },
     "execution_count": 10,
     "metadata": {},
     "output_type": "execute_result"
    }
   ],
   "source": [
    "len(AI_tokens)"
   ]
  },
  {
   "cell_type": "code",
   "execution_count": 11,
   "id": "9c901054",
   "metadata": {
    "execution": {
     "iopub.execute_input": "2022-07-02T12:36:27.972885Z",
     "iopub.status.busy": "2022-07-02T12:36:27.972550Z",
     "iopub.status.idle": "2022-07-02T12:36:27.976922Z",
     "shell.execute_reply": "2022-07-02T12:36:27.976020Z"
    },
    "papermill": {
     "duration": 0.025439,
     "end_time": "2022-07-02T12:36:27.979512",
     "exception": false,
     "start_time": "2022-07-02T12:36:27.954073",
     "status": "completed"
    },
    "tags": []
   },
   "outputs": [],
   "source": [
    "from nltk.probability import FreqDist\n",
    "fdist = FreqDist()"
   ]
  },
  {
   "cell_type": "code",
   "execution_count": 12,
   "id": "e126eddf",
   "metadata": {
    "execution": {
     "iopub.execute_input": "2022-07-02T12:36:28.039557Z",
     "iopub.status.busy": "2022-07-02T12:36:28.038347Z",
     "iopub.status.idle": "2022-07-02T12:36:28.045043Z",
     "shell.execute_reply": "2022-07-02T12:36:28.043994Z"
    },
    "papermill": {
     "duration": 0.038376,
     "end_time": "2022-07-02T12:36:28.047108",
     "exception": false,
     "start_time": "2022-07-02T12:36:28.008732",
     "status": "completed"
    },
    "tags": []
   },
   "outputs": [
    {
     "data": {
      "text/plain": [
       "FreqDist({'to': 6, 'the': 6, 'of': 6, '.': 5, 'intelligence': 4, 'that': 4, 'and': 4, 'learning': 4, 'artificial': 3, 'a': 3, ...})"
      ]
     },
     "execution_count": 12,
     "metadata": {},
     "output_type": "execute_result"
    }
   ],
   "source": [
    "for word in AI_tokens:\n",
    "    fdist[word.lower()]+=1 \n",
    "fdist"
   ]
  },
  {
   "cell_type": "code",
   "execution_count": 13,
   "id": "5bc2c323",
   "metadata": {
    "execution": {
     "iopub.execute_input": "2022-07-02T12:36:28.105568Z",
     "iopub.status.busy": "2022-07-02T12:36:28.105234Z",
     "iopub.status.idle": "2022-07-02T12:36:28.110957Z",
     "shell.execute_reply": "2022-07-02T12:36:28.109799Z"
    },
    "papermill": {
     "duration": 0.03737,
     "end_time": "2022-07-02T12:36:28.112868",
     "exception": false,
     "start_time": "2022-07-02T12:36:28.075498",
     "status": "completed"
    },
    "tags": []
   },
   "outputs": [
    {
     "data": {
      "text/plain": [
       "[('to', 6),\n",
       " ('the', 6),\n",
       " ('of', 6),\n",
       " ('.', 5),\n",
       " ('intelligence', 4),\n",
       " ('that', 4),\n",
       " ('and', 4),\n",
       " ('learning', 4),\n",
       " ('artificial', 3),\n",
       " ('a', 3)]"
      ]
     },
     "execution_count": 13,
     "metadata": {},
     "output_type": "execute_result"
    }
   ],
   "source": [
    "fdist_top10 = fdist.most_common(10)\n",
    "fdist_top10"
   ]
  },
  {
   "cell_type": "code",
   "execution_count": 14,
   "id": "3739f292",
   "metadata": {
    "execution": {
     "iopub.execute_input": "2022-07-02T12:36:28.172273Z",
     "iopub.status.busy": "2022-07-02T12:36:28.171765Z",
     "iopub.status.idle": "2022-07-02T12:36:28.179135Z",
     "shell.execute_reply": "2022-07-02T12:36:28.178480Z"
    },
    "papermill": {
     "duration": 0.039383,
     "end_time": "2022-07-02T12:36:28.181023",
     "exception": false,
     "start_time": "2022-07-02T12:36:28.141640",
     "status": "completed"
    },
    "tags": []
   },
   "outputs": [
    {
     "data": {
      "text/plain": [
       "1"
      ]
     },
     "execution_count": 14,
     "metadata": {},
     "output_type": "execute_result"
    }
   ],
   "source": [
    "# how many paragraphs\n",
    "from nltk.tokenize import blankline_tokenize\n",
    "AI_blank = blankline_tokenize(AI)\n",
    "len(AI_blank)"
   ]
  },
  {
   "cell_type": "code",
   "execution_count": 15,
   "id": "d51545ab",
   "metadata": {
    "execution": {
     "iopub.execute_input": "2022-07-02T12:36:28.240504Z",
     "iopub.status.busy": "2022-07-02T12:36:28.239962Z",
     "iopub.status.idle": "2022-07-02T12:36:28.243873Z",
     "shell.execute_reply": "2022-07-02T12:36:28.243026Z"
    },
    "papermill": {
     "duration": 0.035872,
     "end_time": "2022-07-02T12:36:28.245744",
     "exception": false,
     "start_time": "2022-07-02T12:36:28.209872",
     "status": "completed"
    },
    "tags": []
   },
   "outputs": [],
   "source": [
    "from nltk.util import bigrams, trigrams, ngrams"
   ]
  },
  {
   "cell_type": "code",
   "execution_count": 16,
   "id": "66a15ce9",
   "metadata": {
    "execution": {
     "iopub.execute_input": "2022-07-02T12:36:28.304601Z",
     "iopub.status.busy": "2022-07-02T12:36:28.304057Z",
     "iopub.status.idle": "2022-07-02T12:36:28.310127Z",
     "shell.execute_reply": "2022-07-02T12:36:28.309461Z"
    },
    "papermill": {
     "duration": 0.037988,
     "end_time": "2022-07-02T12:36:28.312086",
     "exception": false,
     "start_time": "2022-07-02T12:36:28.274098",
     "status": "completed"
    },
    "tags": []
   },
   "outputs": [
    {
     "data": {
      "text/plain": [
       "['The',\n",
       " 'best',\n",
       " 'and',\n",
       " 'most',\n",
       " 'beautiful',\n",
       " 'things',\n",
       " 'in',\n",
       " 'the',\n",
       " 'world',\n",
       " 'can',\n",
       " 'not',\n",
       " 'be',\n",
       " 'seen',\n",
       " 'or',\n",
       " 'even',\n",
       " 'touched',\n",
       " ',',\n",
       " 'they',\n",
       " 'must',\n",
       " 'be',\n",
       " 'felt',\n",
       " 'with',\n",
       " 'the',\n",
       " 'heart']"
      ]
     },
     "execution_count": 16,
     "metadata": {},
     "output_type": "execute_result"
    }
   ],
   "source": [
    "string = \"The best and most beautiful things in the world cannot be seen or even touched, they must be felt with the heart\"\n",
    "quotes_tokens = nltk.word_tokenize(string)\n",
    "quotes_tokens"
   ]
  },
  {
   "cell_type": "code",
   "execution_count": 17,
   "id": "867628c9",
   "metadata": {
    "execution": {
     "iopub.execute_input": "2022-07-02T12:36:28.371942Z",
     "iopub.status.busy": "2022-07-02T12:36:28.371439Z",
     "iopub.status.idle": "2022-07-02T12:36:28.377668Z",
     "shell.execute_reply": "2022-07-02T12:36:28.376390Z"
    },
    "papermill": {
     "duration": 0.038198,
     "end_time": "2022-07-02T12:36:28.379552",
     "exception": false,
     "start_time": "2022-07-02T12:36:28.341354",
     "status": "completed"
    },
    "tags": []
   },
   "outputs": [
    {
     "data": {
      "text/plain": [
       "[('The', 'best'),\n",
       " ('best', 'and'),\n",
       " ('and', 'most'),\n",
       " ('most', 'beautiful'),\n",
       " ('beautiful', 'things'),\n",
       " ('things', 'in'),\n",
       " ('in', 'the'),\n",
       " ('the', 'world'),\n",
       " ('world', 'can'),\n",
       " ('can', 'not'),\n",
       " ('not', 'be'),\n",
       " ('be', 'seen'),\n",
       " ('seen', 'or'),\n",
       " ('or', 'even'),\n",
       " ('even', 'touched'),\n",
       " ('touched', ','),\n",
       " (',', 'they'),\n",
       " ('they', 'must'),\n",
       " ('must', 'be'),\n",
       " ('be', 'felt'),\n",
       " ('felt', 'with'),\n",
       " ('with', 'the'),\n",
       " ('the', 'heart')]"
      ]
     },
     "execution_count": 17,
     "metadata": {},
     "output_type": "execute_result"
    }
   ],
   "source": [
    "quotes_bigrams = list(nltk.bigrams(quotes_tokens))\n",
    "quotes_bigrams"
   ]
  },
  {
   "cell_type": "code",
   "execution_count": 18,
   "id": "1ee6d8ae",
   "metadata": {
    "execution": {
     "iopub.execute_input": "2022-07-02T12:36:28.438799Z",
     "iopub.status.busy": "2022-07-02T12:36:28.438506Z",
     "iopub.status.idle": "2022-07-02T12:36:28.445555Z",
     "shell.execute_reply": "2022-07-02T12:36:28.444574Z"
    },
    "papermill": {
     "duration": 0.039413,
     "end_time": "2022-07-02T12:36:28.447857",
     "exception": false,
     "start_time": "2022-07-02T12:36:28.408444",
     "status": "completed"
    },
    "tags": []
   },
   "outputs": [
    {
     "data": {
      "text/plain": [
       "[('The', 'best', 'and'),\n",
       " ('best', 'and', 'most'),\n",
       " ('and', 'most', 'beautiful'),\n",
       " ('most', 'beautiful', 'things'),\n",
       " ('beautiful', 'things', 'in'),\n",
       " ('things', 'in', 'the'),\n",
       " ('in', 'the', 'world'),\n",
       " ('the', 'world', 'can'),\n",
       " ('world', 'can', 'not'),\n",
       " ('can', 'not', 'be'),\n",
       " ('not', 'be', 'seen'),\n",
       " ('be', 'seen', 'or'),\n",
       " ('seen', 'or', 'even'),\n",
       " ('or', 'even', 'touched'),\n",
       " ('even', 'touched', ','),\n",
       " ('touched', ',', 'they'),\n",
       " (',', 'they', 'must'),\n",
       " ('they', 'must', 'be'),\n",
       " ('must', 'be', 'felt'),\n",
       " ('be', 'felt', 'with'),\n",
       " ('felt', 'with', 'the'),\n",
       " ('with', 'the', 'heart')]"
      ]
     },
     "execution_count": 18,
     "metadata": {},
     "output_type": "execute_result"
    }
   ],
   "source": [
    "quotes_trigrams = list(nltk.trigrams(quotes_tokens))\n",
    "quotes_trigrams"
   ]
  },
  {
   "cell_type": "code",
   "execution_count": 19,
   "id": "6982fb55",
   "metadata": {
    "execution": {
     "iopub.execute_input": "2022-07-02T12:36:28.508004Z",
     "iopub.status.busy": "2022-07-02T12:36:28.507669Z",
     "iopub.status.idle": "2022-07-02T12:36:28.515337Z",
     "shell.execute_reply": "2022-07-02T12:36:28.514771Z"
    },
    "papermill": {
     "duration": 0.039846,
     "end_time": "2022-07-02T12:36:28.517186",
     "exception": false,
     "start_time": "2022-07-02T12:36:28.477340",
     "status": "completed"
    },
    "tags": []
   },
   "outputs": [
    {
     "data": {
      "text/plain": [
       "[('The', 'best', 'and', 'most'),\n",
       " ('best', 'and', 'most', 'beautiful'),\n",
       " ('and', 'most', 'beautiful', 'things'),\n",
       " ('most', 'beautiful', 'things', 'in'),\n",
       " ('beautiful', 'things', 'in', 'the'),\n",
       " ('things', 'in', 'the', 'world'),\n",
       " ('in', 'the', 'world', 'can'),\n",
       " ('the', 'world', 'can', 'not'),\n",
       " ('world', 'can', 'not', 'be'),\n",
       " ('can', 'not', 'be', 'seen'),\n",
       " ('not', 'be', 'seen', 'or'),\n",
       " ('be', 'seen', 'or', 'even'),\n",
       " ('seen', 'or', 'even', 'touched'),\n",
       " ('or', 'even', 'touched', ','),\n",
       " ('even', 'touched', ',', 'they'),\n",
       " ('touched', ',', 'they', 'must'),\n",
       " (',', 'they', 'must', 'be'),\n",
       " ('they', 'must', 'be', 'felt'),\n",
       " ('must', 'be', 'felt', 'with'),\n",
       " ('be', 'felt', 'with', 'the'),\n",
       " ('felt', 'with', 'the', 'heart')]"
      ]
     },
     "execution_count": 19,
     "metadata": {},
     "output_type": "execute_result"
    }
   ],
   "source": [
    "quotes_ngrams = list(nltk.ngrams(quotes_tokens, 4)) # we can check 4, 5 etc tokens too with the parameter\n",
    "quotes_ngrams"
   ]
  },
  {
   "cell_type": "code",
   "execution_count": 20,
   "id": "1f36bf3c",
   "metadata": {
    "execution": {
     "iopub.execute_input": "2022-07-02T12:36:28.578611Z",
     "iopub.status.busy": "2022-07-02T12:36:28.578213Z",
     "iopub.status.idle": "2022-07-02T12:36:28.581893Z",
     "shell.execute_reply": "2022-07-02T12:36:28.580928Z"
    },
    "papermill": {
     "duration": 0.037561,
     "end_time": "2022-07-02T12:36:28.584122",
     "exception": false,
     "start_time": "2022-07-02T12:36:28.546561",
     "status": "completed"
    },
    "tags": []
   },
   "outputs": [],
   "source": [
    "# Stemming\n",
    "## Normalize words into its base form or root form"
   ]
  },
  {
   "cell_type": "code",
   "execution_count": 21,
   "id": "8b9ef330",
   "metadata": {
    "execution": {
     "iopub.execute_input": "2022-07-02T12:36:28.621018Z",
     "iopub.status.busy": "2022-07-02T12:36:28.620716Z",
     "iopub.status.idle": "2022-07-02T12:36:28.624733Z",
     "shell.execute_reply": "2022-07-02T12:36:28.623821Z"
    },
    "papermill": {
     "duration": 0.024708,
     "end_time": "2022-07-02T12:36:28.626581",
     "exception": false,
     "start_time": "2022-07-02T12:36:28.601873",
     "status": "completed"
    },
    "tags": []
   },
   "outputs": [],
   "source": [
    "from nltk.stem import PorterStemmer\n",
    "pst = PorterStemmer()"
   ]
  },
  {
   "cell_type": "code",
   "execution_count": 22,
   "id": "4aa03681",
   "metadata": {
    "execution": {
     "iopub.execute_input": "2022-07-02T12:36:28.664661Z",
     "iopub.status.busy": "2022-07-02T12:36:28.663847Z",
     "iopub.status.idle": "2022-07-02T12:36:28.668951Z",
     "shell.execute_reply": "2022-07-02T12:36:28.668389Z"
    },
    "papermill": {
     "duration": 0.025785,
     "end_time": "2022-07-02T12:36:28.670536",
     "exception": false,
     "start_time": "2022-07-02T12:36:28.644751",
     "status": "completed"
    },
    "tags": []
   },
   "outputs": [
    {
     "data": {
      "text/plain": [
       "'have'"
      ]
     },
     "execution_count": 22,
     "metadata": {},
     "output_type": "execute_result"
    }
   ],
   "source": [
    "pst.stem(\"having\")"
   ]
  },
  {
   "cell_type": "code",
   "execution_count": 23,
   "id": "a557a10b",
   "metadata": {
    "execution": {
     "iopub.execute_input": "2022-07-02T12:36:28.708275Z",
     "iopub.status.busy": "2022-07-02T12:36:28.707618Z",
     "iopub.status.idle": "2022-07-02T12:36:28.713736Z",
     "shell.execute_reply": "2022-07-02T12:36:28.712834Z"
    },
    "papermill": {
     "duration": 0.027447,
     "end_time": "2022-07-02T12:36:28.716226",
     "exception": false,
     "start_time": "2022-07-02T12:36:28.688779",
     "status": "completed"
    },
    "tags": []
   },
   "outputs": [
    {
     "name": "stdout",
     "output_type": "stream",
     "text": [
      "give:give\n",
      "giving:give\n",
      "given:given\n",
      "gave:gave\n"
     ]
    }
   ],
   "source": [
    "words_to_stem = [\"give\", \"giving\", \"given\", \"gave\"]\n",
    "for words in words_to_stem:\n",
    "    print(words + \":\" + pst.stem(words))"
   ]
  },
  {
   "cell_type": "code",
   "execution_count": 24,
   "id": "8d65dcf7",
   "metadata": {
    "execution": {
     "iopub.execute_input": "2022-07-02T12:36:28.778181Z",
     "iopub.status.busy": "2022-07-02T12:36:28.777640Z",
     "iopub.status.idle": "2022-07-02T12:36:28.783698Z",
     "shell.execute_reply": "2022-07-02T12:36:28.782507Z"
    },
    "papermill": {
     "duration": 0.039606,
     "end_time": "2022-07-02T12:36:28.785548",
     "exception": false,
     "start_time": "2022-07-02T12:36:28.745942",
     "status": "completed"
    },
    "tags": []
   },
   "outputs": [
    {
     "name": "stdout",
     "output_type": "stream",
     "text": [
      "give:giv\n",
      "giving:giv\n",
      "given:giv\n",
      "gave:gav\n"
     ]
    }
   ],
   "source": [
    "# LancasterStemmer is more agressive than PorterStemmer\n",
    "from nltk.stem import LancasterStemmer\n",
    "lst = LancasterStemmer()\n",
    "for words in words_to_stem:\n",
    "    print(words + \":\" + lst.stem(words))"
   ]
  },
  {
   "cell_type": "code",
   "execution_count": 25,
   "id": "f114bb08",
   "metadata": {
    "execution": {
     "iopub.execute_input": "2022-07-02T12:36:28.824505Z",
     "iopub.status.busy": "2022-07-02T12:36:28.823796Z",
     "iopub.status.idle": "2022-07-02T12:36:28.828697Z",
     "shell.execute_reply": "2022-07-02T12:36:28.827423Z"
    },
    "papermill": {
     "duration": 0.027364,
     "end_time": "2022-07-02T12:36:28.830930",
     "exception": false,
     "start_time": "2022-07-02T12:36:28.803566",
     "status": "completed"
    },
    "tags": []
   },
   "outputs": [],
   "source": [
    "# Lemmatization\n",
    "## Groups together different inflected forms of a word, called Lemma\n",
    "## Somehow similart to Stemming, as it maps several words into one common root\n",
    "## Output of Lemmatization is proper word\n",
    "## For example, a Lemmatiser should map gone, going and went into go"
   ]
  },
  {
   "cell_type": "code",
   "execution_count": 26,
   "id": "1ac0e270",
   "metadata": {
    "execution": {
     "iopub.execute_input": "2022-07-02T12:36:28.869069Z",
     "iopub.status.busy": "2022-07-02T12:36:28.868378Z",
     "iopub.status.idle": "2022-07-02T12:36:28.873152Z",
     "shell.execute_reply": "2022-07-02T12:36:28.872493Z"
    },
    "papermill": {
     "duration": 0.026148,
     "end_time": "2022-07-02T12:36:28.875210",
     "exception": false,
     "start_time": "2022-07-02T12:36:28.849062",
     "status": "completed"
    },
    "tags": []
   },
   "outputs": [],
   "source": [
    "from nltk.stem import wordnet\n",
    "from nltk.stem import WordNetLemmatizer\n",
    "word_lem = WordNetLemmatizer()"
   ]
  },
  {
   "cell_type": "code",
   "execution_count": 27,
   "id": "2e889486",
   "metadata": {
    "execution": {
     "iopub.execute_input": "2022-07-02T12:36:28.927243Z",
     "iopub.status.busy": "2022-07-02T12:36:28.926925Z",
     "iopub.status.idle": "2022-07-02T12:36:31.447225Z",
     "shell.execute_reply": "2022-07-02T12:36:31.446110Z"
    },
    "papermill": {
     "duration": 2.544919,
     "end_time": "2022-07-02T12:36:31.449736",
     "exception": false,
     "start_time": "2022-07-02T12:36:28.904817",
     "status": "completed"
    },
    "tags": []
   },
   "outputs": [
    {
     "data": {
      "text/plain": [
       "'corpus'"
      ]
     },
     "execution_count": 27,
     "metadata": {},
     "output_type": "execute_result"
    }
   ],
   "source": [
    "word_lem.lemmatize(\"corpora\")"
   ]
  },
  {
   "cell_type": "code",
   "execution_count": 28,
   "id": "1a17ec13",
   "metadata": {
    "execution": {
     "iopub.execute_input": "2022-07-02T12:36:31.511263Z",
     "iopub.status.busy": "2022-07-02T12:36:31.510887Z",
     "iopub.status.idle": "2022-07-02T12:36:31.517976Z",
     "shell.execute_reply": "2022-07-02T12:36:31.516939Z"
    },
    "papermill": {
     "duration": 0.041199,
     "end_time": "2022-07-02T12:36:31.520820",
     "exception": false,
     "start_time": "2022-07-02T12:36:31.479621",
     "status": "completed"
    },
    "tags": []
   },
   "outputs": [
    {
     "name": "stdout",
     "output_type": "stream",
     "text": [
      "give:give\n",
      "giving:giving\n",
      "given:given\n",
      "gave:gave\n"
     ]
    }
   ],
   "source": [
    "for words in words_to_stem:\n",
    "    print(words + \":\" + word_lem.lemmatize(words))"
   ]
  },
  {
   "cell_type": "code",
   "execution_count": 29,
   "id": "d011b851",
   "metadata": {
    "execution": {
     "iopub.execute_input": "2022-07-02T12:36:31.583479Z",
     "iopub.status.busy": "2022-07-02T12:36:31.583073Z",
     "iopub.status.idle": "2022-07-02T12:36:31.587585Z",
     "shell.execute_reply": "2022-07-02T12:36:31.586814Z"
    },
    "papermill": {
     "duration": 0.03816,
     "end_time": "2022-07-02T12:36:31.589750",
     "exception": false,
     "start_time": "2022-07-02T12:36:31.551590",
     "status": "completed"
    },
    "tags": []
   },
   "outputs": [],
   "source": [
    "from nltk.corpus import stopwords"
   ]
  },
  {
   "cell_type": "code",
   "execution_count": 30,
   "id": "0e546a94",
   "metadata": {
    "execution": {
     "iopub.execute_input": "2022-07-02T12:36:31.650872Z",
     "iopub.status.busy": "2022-07-02T12:36:31.650596Z",
     "iopub.status.idle": "2022-07-02T12:36:31.663753Z",
     "shell.execute_reply": "2022-07-02T12:36:31.662964Z"
    },
    "papermill": {
     "duration": 0.045985,
     "end_time": "2022-07-02T12:36:31.665526",
     "exception": false,
     "start_time": "2022-07-02T12:36:31.619541",
     "status": "completed"
    },
    "tags": []
   },
   "outputs": [
    {
     "data": {
      "text/plain": [
       "['i',\n",
       " 'me',\n",
       " 'my',\n",
       " 'myself',\n",
       " 'we',\n",
       " 'our',\n",
       " 'ours',\n",
       " 'ourselves',\n",
       " 'you',\n",
       " \"you're\",\n",
       " \"you've\",\n",
       " \"you'll\",\n",
       " \"you'd\",\n",
       " 'your',\n",
       " 'yours',\n",
       " 'yourself',\n",
       " 'yourselves',\n",
       " 'he',\n",
       " 'him',\n",
       " 'his',\n",
       " 'himself',\n",
       " 'she',\n",
       " \"she's\",\n",
       " 'her',\n",
       " 'hers',\n",
       " 'herself',\n",
       " 'it',\n",
       " \"it's\",\n",
       " 'its',\n",
       " 'itself',\n",
       " 'they',\n",
       " 'them',\n",
       " 'their',\n",
       " 'theirs',\n",
       " 'themselves',\n",
       " 'what',\n",
       " 'which',\n",
       " 'who',\n",
       " 'whom',\n",
       " 'this',\n",
       " 'that',\n",
       " \"that'll\",\n",
       " 'these',\n",
       " 'those',\n",
       " 'am',\n",
       " 'is',\n",
       " 'are',\n",
       " 'was',\n",
       " 'were',\n",
       " 'be',\n",
       " 'been',\n",
       " 'being',\n",
       " 'have',\n",
       " 'has',\n",
       " 'had',\n",
       " 'having',\n",
       " 'do',\n",
       " 'does',\n",
       " 'did',\n",
       " 'doing',\n",
       " 'a',\n",
       " 'an',\n",
       " 'the',\n",
       " 'and',\n",
       " 'but',\n",
       " 'if',\n",
       " 'or',\n",
       " 'because',\n",
       " 'as',\n",
       " 'until',\n",
       " 'while',\n",
       " 'of',\n",
       " 'at',\n",
       " 'by',\n",
       " 'for',\n",
       " 'with',\n",
       " 'about',\n",
       " 'against',\n",
       " 'between',\n",
       " 'into',\n",
       " 'through',\n",
       " 'during',\n",
       " 'before',\n",
       " 'after',\n",
       " 'above',\n",
       " 'below',\n",
       " 'to',\n",
       " 'from',\n",
       " 'up',\n",
       " 'down',\n",
       " 'in',\n",
       " 'out',\n",
       " 'on',\n",
       " 'off',\n",
       " 'over',\n",
       " 'under',\n",
       " 'again',\n",
       " 'further',\n",
       " 'then',\n",
       " 'once',\n",
       " 'here',\n",
       " 'there',\n",
       " 'when',\n",
       " 'where',\n",
       " 'why',\n",
       " 'how',\n",
       " 'all',\n",
       " 'any',\n",
       " 'both',\n",
       " 'each',\n",
       " 'few',\n",
       " 'more',\n",
       " 'most',\n",
       " 'other',\n",
       " 'some',\n",
       " 'such',\n",
       " 'no',\n",
       " 'nor',\n",
       " 'not',\n",
       " 'only',\n",
       " 'own',\n",
       " 'same',\n",
       " 'so',\n",
       " 'than',\n",
       " 'too',\n",
       " 'very',\n",
       " 's',\n",
       " 't',\n",
       " 'can',\n",
       " 'will',\n",
       " 'just',\n",
       " 'don',\n",
       " \"don't\",\n",
       " 'should',\n",
       " \"should've\",\n",
       " 'now',\n",
       " 'd',\n",
       " 'll',\n",
       " 'm',\n",
       " 'o',\n",
       " 're',\n",
       " 've',\n",
       " 'y',\n",
       " 'ain',\n",
       " 'aren',\n",
       " \"aren't\",\n",
       " 'couldn',\n",
       " \"couldn't\",\n",
       " 'didn',\n",
       " \"didn't\",\n",
       " 'doesn',\n",
       " \"doesn't\",\n",
       " 'hadn',\n",
       " \"hadn't\",\n",
       " 'hasn',\n",
       " \"hasn't\",\n",
       " 'haven',\n",
       " \"haven't\",\n",
       " 'isn',\n",
       " \"isn't\",\n",
       " 'ma',\n",
       " 'mightn',\n",
       " \"mightn't\",\n",
       " 'mustn',\n",
       " \"mustn't\",\n",
       " 'needn',\n",
       " \"needn't\",\n",
       " 'shan',\n",
       " \"shan't\",\n",
       " 'shouldn',\n",
       " \"shouldn't\",\n",
       " 'wasn',\n",
       " \"wasn't\",\n",
       " 'weren',\n",
       " \"weren't\",\n",
       " 'won',\n",
       " \"won't\",\n",
       " 'wouldn',\n",
       " \"wouldn't\"]"
      ]
     },
     "execution_count": 30,
     "metadata": {},
     "output_type": "execute_result"
    }
   ],
   "source": [
    "stopwords.words(\"english\")"
   ]
  },
  {
   "cell_type": "code",
   "execution_count": 31,
   "id": "15b32235",
   "metadata": {
    "execution": {
     "iopub.execute_input": "2022-07-02T12:36:31.703381Z",
     "iopub.status.busy": "2022-07-02T12:36:31.703020Z",
     "iopub.status.idle": "2022-07-02T12:36:31.709794Z",
     "shell.execute_reply": "2022-07-02T12:36:31.709082Z"
    },
    "papermill": {
     "duration": 0.027622,
     "end_time": "2022-07-02T12:36:31.711482",
     "exception": false,
     "start_time": "2022-07-02T12:36:31.683860",
     "status": "completed"
    },
    "tags": []
   },
   "outputs": [
    {
     "data": {
      "text/plain": [
       "179"
      ]
     },
     "execution_count": 31,
     "metadata": {},
     "output_type": "execute_result"
    }
   ],
   "source": [
    "# stopwords\n",
    "len(stopwords.words(\"english\"))"
   ]
  },
  {
   "cell_type": "code",
   "execution_count": 32,
   "id": "261501eb",
   "metadata": {
    "execution": {
     "iopub.execute_input": "2022-07-02T12:36:31.750043Z",
     "iopub.status.busy": "2022-07-02T12:36:31.749670Z",
     "iopub.status.idle": "2022-07-02T12:36:31.757538Z",
     "shell.execute_reply": "2022-07-02T12:36:31.756260Z"
    },
    "papermill": {
     "duration": 0.030281,
     "end_time": "2022-07-02T12:36:31.760230",
     "exception": false,
     "start_time": "2022-07-02T12:36:31.729949",
     "status": "completed"
    },
    "tags": []
   },
   "outputs": [
    {
     "data": {
      "text/plain": [
       "[('to', 6),\n",
       " ('the', 6),\n",
       " ('of', 6),\n",
       " ('.', 5),\n",
       " ('intelligence', 4),\n",
       " ('that', 4),\n",
       " ('and', 4),\n",
       " ('learning', 4),\n",
       " ('artificial', 3),\n",
       " ('a', 3)]"
      ]
     },
     "execution_count": 32,
     "metadata": {},
     "output_type": "execute_result"
    }
   ],
   "source": [
    "fdist_top10"
   ]
  },
  {
   "cell_type": "code",
   "execution_count": 33,
   "id": "32269eb5",
   "metadata": {
    "execution": {
     "iopub.execute_input": "2022-07-02T12:36:31.826732Z",
     "iopub.status.busy": "2022-07-02T12:36:31.824296Z",
     "iopub.status.idle": "2022-07-02T12:36:31.830793Z",
     "shell.execute_reply": "2022-07-02T12:36:31.829922Z"
    },
    "papermill": {
     "duration": 0.041906,
     "end_time": "2022-07-02T12:36:31.833241",
     "exception": false,
     "start_time": "2022-07-02T12:36:31.791335",
     "status": "completed"
    },
    "tags": []
   },
   "outputs": [],
   "source": [
    "import re\n",
    "punctuation = re.compile(r'[-.?!,:;()|0-9]')"
   ]
  },
  {
   "cell_type": "code",
   "execution_count": 34,
   "id": "8ecfd657",
   "metadata": {
    "execution": {
     "iopub.execute_input": "2022-07-02T12:36:31.896303Z",
     "iopub.status.busy": "2022-07-02T12:36:31.896013Z",
     "iopub.status.idle": "2022-07-02T12:36:31.899906Z",
     "shell.execute_reply": "2022-07-02T12:36:31.899349Z"
    },
    "papermill": {
     "duration": 0.037224,
     "end_time": "2022-07-02T12:36:31.901666",
     "exception": false,
     "start_time": "2022-07-02T12:36:31.864442",
     "status": "completed"
    },
    "tags": []
   },
   "outputs": [],
   "source": [
    "post_punctuation = []\n",
    "for words in AI_tokens:\n",
    "    word = punctuation.sub(\"\", words) \n",
    "    if len(word)>0:\n",
    "        post_punctuation.append(word)"
   ]
  },
  {
   "cell_type": "code",
   "execution_count": 35,
   "id": "0791447d",
   "metadata": {
    "execution": {
     "iopub.execute_input": "2022-07-02T12:36:31.964787Z",
     "iopub.status.busy": "2022-07-02T12:36:31.964065Z",
     "iopub.status.idle": "2022-07-02T12:36:31.970256Z",
     "shell.execute_reply": "2022-07-02T12:36:31.969690Z"
    },
    "papermill": {
     "duration": 0.039713,
     "end_time": "2022-07-02T12:36:31.972099",
     "exception": false,
     "start_time": "2022-07-02T12:36:31.932386",
     "status": "completed"
    },
    "tags": []
   },
   "outputs": [
    {
     "data": {
      "text/plain": [
       "['Artificial',\n",
       " 'intelligence',\n",
       " 'AI',\n",
       " 'refers',\n",
       " 'to',\n",
       " 'the',\n",
       " 'simulation',\n",
       " 'of',\n",
       " 'human',\n",
       " 'intelligence',\n",
       " 'in',\n",
       " 'machines',\n",
       " 'that',\n",
       " 'are',\n",
       " 'programmed',\n",
       " 'to',\n",
       " 'think',\n",
       " 'like',\n",
       " 'humans',\n",
       " 'and',\n",
       " 'mimic',\n",
       " 'their',\n",
       " 'actions',\n",
       " 'The',\n",
       " 'term',\n",
       " 'may',\n",
       " 'also',\n",
       " 'be',\n",
       " 'applied',\n",
       " 'to',\n",
       " 'any',\n",
       " 'machine',\n",
       " 'that',\n",
       " 'exhibits',\n",
       " 'traits',\n",
       " 'associated',\n",
       " 'with',\n",
       " 'a',\n",
       " 'human',\n",
       " 'mind',\n",
       " 'such',\n",
       " 'as',\n",
       " 'learning',\n",
       " 'and',\n",
       " 'problemsolving',\n",
       " 'The',\n",
       " 'ideal',\n",
       " 'characteristic',\n",
       " 'of',\n",
       " 'artificial',\n",
       " 'intelligence',\n",
       " 'is',\n",
       " 'its',\n",
       " 'ability',\n",
       " 'to',\n",
       " 'rationalize',\n",
       " 'and',\n",
       " 'take',\n",
       " 'actions',\n",
       " 'that',\n",
       " 'have',\n",
       " 'the',\n",
       " 'best',\n",
       " 'chance',\n",
       " 'of',\n",
       " 'achieving',\n",
       " 'a',\n",
       " 'specific',\n",
       " 'goal',\n",
       " 'A',\n",
       " 'subset',\n",
       " 'of',\n",
       " 'artificial',\n",
       " 'intelligence',\n",
       " 'is',\n",
       " 'machine',\n",
       " 'learning',\n",
       " 'which',\n",
       " 'refers',\n",
       " 'to',\n",
       " 'the',\n",
       " 'concept',\n",
       " 'that',\n",
       " 'computer',\n",
       " 'programs',\n",
       " 'can',\n",
       " 'automatically',\n",
       " 'learn',\n",
       " 'from',\n",
       " 'and',\n",
       " 'adapt',\n",
       " 'to',\n",
       " 'new',\n",
       " 'data',\n",
       " 'without',\n",
       " 'being',\n",
       " 'assisted',\n",
       " 'by',\n",
       " 'humans',\n",
       " 'Deep',\n",
       " 'learning',\n",
       " 'techniques',\n",
       " 'enable',\n",
       " 'this',\n",
       " 'automatic',\n",
       " 'learning',\n",
       " 'through',\n",
       " 'the',\n",
       " 'absorption',\n",
       " 'of',\n",
       " 'huge',\n",
       " 'amounts',\n",
       " 'of',\n",
       " 'unstructured',\n",
       " 'data',\n",
       " 'such',\n",
       " 'as',\n",
       " 'text',\n",
       " 'images',\n",
       " 'or',\n",
       " 'video']"
      ]
     },
     "execution_count": 35,
     "metadata": {},
     "output_type": "execute_result"
    }
   ],
   "source": [
    "post_punctuation"
   ]
  },
  {
   "cell_type": "code",
   "execution_count": 36,
   "id": "21a280a4",
   "metadata": {
    "execution": {
     "iopub.execute_input": "2022-07-02T12:36:32.035343Z",
     "iopub.status.busy": "2022-07-02T12:36:32.034819Z",
     "iopub.status.idle": "2022-07-02T12:36:32.039942Z",
     "shell.execute_reply": "2022-07-02T12:36:32.038710Z"
    },
    "papermill": {
     "duration": 0.03958,
     "end_time": "2022-07-02T12:36:32.042215",
     "exception": false,
     "start_time": "2022-07-02T12:36:32.002635",
     "status": "completed"
    },
    "tags": []
   },
   "outputs": [
    {
     "data": {
      "text/plain": [
       "121"
      ]
     },
     "execution_count": 36,
     "metadata": {},
     "output_type": "execute_result"
    }
   ],
   "source": [
    "len(post_punctuation)"
   ]
  },
  {
   "cell_type": "code",
   "execution_count": 37,
   "id": "f7420225",
   "metadata": {
    "execution": {
     "iopub.execute_input": "2022-07-02T12:36:32.105890Z",
     "iopub.status.busy": "2022-07-02T12:36:32.105384Z",
     "iopub.status.idle": "2022-07-02T12:36:32.108914Z",
     "shell.execute_reply": "2022-07-02T12:36:32.108361Z"
    },
    "papermill": {
     "duration": 0.037574,
     "end_time": "2022-07-02T12:36:32.110853",
     "exception": false,
     "start_time": "2022-07-02T12:36:32.073279",
     "status": "completed"
    },
    "tags": []
   },
   "outputs": [],
   "source": [
    "# POS: Parts of Speech\n",
    "sent = \"Timothy is a natural when it comes to drawing\"\n",
    "sent_tokens = word_tokenize(sent)"
   ]
  },
  {
   "cell_type": "code",
   "execution_count": 38,
   "id": "dbbc13d8",
   "metadata": {
    "execution": {
     "iopub.execute_input": "2022-07-02T12:36:32.177333Z",
     "iopub.status.busy": "2022-07-02T12:36:32.176792Z",
     "iopub.status.idle": "2022-07-02T12:36:32.310965Z",
     "shell.execute_reply": "2022-07-02T12:36:32.308614Z"
    },
    "papermill": {
     "duration": 0.169301,
     "end_time": "2022-07-02T12:36:32.313579",
     "exception": false,
     "start_time": "2022-07-02T12:36:32.144278",
     "status": "completed"
    },
    "tags": []
   },
   "outputs": [
    {
     "name": "stdout",
     "output_type": "stream",
     "text": [
      "[('Timothy', 'NN')]\n",
      "[('is', 'VBZ')]\n",
      "[('a', 'DT')]\n",
      "[('natural', 'JJ')]\n",
      "[('when', 'WRB')]\n",
      "[('it', 'PRP')]\n",
      "[('comes', 'VBZ')]\n",
      "[('to', 'TO')]\n",
      "[('drawing', 'VBG')]\n"
     ]
    }
   ],
   "source": [
    "for token in sent_tokens:\n",
    "    print(nltk.pos_tag([token]))"
   ]
  },
  {
   "cell_type": "code",
   "execution_count": 39,
   "id": "b7564482",
   "metadata": {
    "execution": {
     "iopub.execute_input": "2022-07-02T12:36:32.377086Z",
     "iopub.status.busy": "2022-07-02T12:36:32.376640Z",
     "iopub.status.idle": "2022-07-02T12:36:32.381723Z",
     "shell.execute_reply": "2022-07-02T12:36:32.381059Z"
    },
    "papermill": {
     "duration": 0.039589,
     "end_time": "2022-07-02T12:36:32.384228",
     "exception": false,
     "start_time": "2022-07-02T12:36:32.344639",
     "status": "completed"
    },
    "tags": []
   },
   "outputs": [
    {
     "name": "stdout",
     "output_type": "stream",
     "text": [
      "[('John', 'NNP')]\n",
      "[('is', 'VBZ')]\n",
      "[('eating', 'VBG')]\n",
      "[('a', 'DT')]\n",
      "[('delicious', 'JJ')]\n",
      "[('cake', 'NN')]\n"
     ]
    }
   ],
   "source": [
    "sent2 = \"John is eating a delicious cake\"\n",
    "sent2_tokens = word_tokenize(sent2)\n",
    "for token in sent2_tokens:\n",
    "    print(nltk.pos_tag([token]))"
   ]
  },
  {
   "cell_type": "code",
   "execution_count": 40,
   "id": "bc0105fc",
   "metadata": {
    "execution": {
     "iopub.execute_input": "2022-07-02T12:36:32.448116Z",
     "iopub.status.busy": "2022-07-02T12:36:32.447728Z",
     "iopub.status.idle": "2022-07-02T12:36:32.452363Z",
     "shell.execute_reply": "2022-07-02T12:36:32.451462Z"
    },
    "papermill": {
     "duration": 0.039357,
     "end_time": "2022-07-02T12:36:32.454767",
     "exception": false,
     "start_time": "2022-07-02T12:36:32.415410",
     "status": "completed"
    },
    "tags": []
   },
   "outputs": [],
   "source": [
    "# What are Named Entity Recognition?\n",
    "# NER\n",
    "from nltk import ne_chunk"
   ]
  },
  {
   "cell_type": "code",
   "execution_count": 41,
   "id": "550ed3ce",
   "metadata": {
    "execution": {
     "iopub.execute_input": "2022-07-02T12:36:32.506396Z",
     "iopub.status.busy": "2022-07-02T12:36:32.506057Z",
     "iopub.status.idle": "2022-07-02T12:36:32.510536Z",
     "shell.execute_reply": "2022-07-02T12:36:32.509609Z"
    },
    "papermill": {
     "duration": 0.026689,
     "end_time": "2022-07-02T12:36:32.512201",
     "exception": false,
     "start_time": "2022-07-02T12:36:32.485512",
     "status": "completed"
    },
    "tags": []
   },
   "outputs": [],
   "source": [
    "NE_sent = \"The US President stays in the WHITE HOUSE\""
   ]
  },
  {
   "cell_type": "code",
   "execution_count": 42,
   "id": "b05834f6",
   "metadata": {
    "execution": {
     "iopub.execute_input": "2022-07-02T12:36:32.552167Z",
     "iopub.status.busy": "2022-07-02T12:36:32.551509Z",
     "iopub.status.idle": "2022-07-02T12:36:32.558005Z",
     "shell.execute_reply": "2022-07-02T12:36:32.557174Z"
    },
    "papermill": {
     "duration": 0.028953,
     "end_time": "2022-07-02T12:36:32.560206",
     "exception": false,
     "start_time": "2022-07-02T12:36:32.531253",
     "status": "completed"
    },
    "tags": []
   },
   "outputs": [],
   "source": [
    "NE_tokens = word_tokenize(NE_sent)\n",
    "NE_tags = nltk.pos_tag(NE_tokens)"
   ]
  },
  {
   "cell_type": "code",
   "execution_count": 43,
   "id": "845bb18c",
   "metadata": {
    "execution": {
     "iopub.execute_input": "2022-07-02T12:36:32.603544Z",
     "iopub.status.busy": "2022-07-02T12:36:32.603232Z",
     "iopub.status.idle": "2022-07-02T12:36:32.743347Z",
     "shell.execute_reply": "2022-07-02T12:36:32.742477Z"
    },
    "papermill": {
     "duration": 0.166612,
     "end_time": "2022-07-02T12:36:32.745624",
     "exception": false,
     "start_time": "2022-07-02T12:36:32.579012",
     "status": "completed"
    },
    "tags": []
   },
   "outputs": [
    {
     "name": "stdout",
     "output_type": "stream",
     "text": [
      "(S\n",
      "  The/DT\n",
      "  (ORGANIZATION US/NNP)\n",
      "  President/NNP\n",
      "  stays/VBZ\n",
      "  in/IN\n",
      "  the/DT\n",
      "  (FACILITY WHITE/NNP HOUSE/NNP))\n"
     ]
    }
   ],
   "source": [
    "NE_NER = ne_chunk(NE_tags)\n",
    "print(NE_NER)"
   ]
  },
  {
   "cell_type": "code",
   "execution_count": 44,
   "id": "061ee0c4",
   "metadata": {
    "execution": {
     "iopub.execute_input": "2022-07-02T12:36:32.811545Z",
     "iopub.status.busy": "2022-07-02T12:36:32.810971Z",
     "iopub.status.idle": "2022-07-02T12:36:32.814670Z",
     "shell.execute_reply": "2022-07-02T12:36:32.813999Z"
    },
    "papermill": {
     "duration": 0.039366,
     "end_time": "2022-07-02T12:36:32.816784",
     "exception": false,
     "start_time": "2022-07-02T12:36:32.777418",
     "status": "completed"
    },
    "tags": []
   },
   "outputs": [],
   "source": [
    "# Syntax: Principles, rules, process\n",
    "### Syntax Tree is a tree representation of syntactic structure of sentences or strings"
   ]
  },
  {
   "cell_type": "code",
   "execution_count": 45,
   "id": "85e2afcc",
   "metadata": {
    "execution": {
     "iopub.execute_input": "2022-07-02T12:36:32.881199Z",
     "iopub.status.busy": "2022-07-02T12:36:32.880730Z",
     "iopub.status.idle": "2022-07-02T12:36:32.884118Z",
     "shell.execute_reply": "2022-07-02T12:36:32.883567Z"
    },
    "papermill": {
     "duration": 0.03769,
     "end_time": "2022-07-02T12:36:32.886164",
     "exception": false,
     "start_time": "2022-07-02T12:36:32.848474",
     "status": "completed"
    },
    "tags": []
   },
   "outputs": [],
   "source": [
    "# Chunking\n",
    "### Pick up individual pieces of information and grouping them into bigger pieces"
   ]
  },
  {
   "cell_type": "code",
   "execution_count": 46,
   "id": "68e8f9a7",
   "metadata": {
    "execution": {
     "iopub.execute_input": "2022-07-02T12:36:32.950602Z",
     "iopub.status.busy": "2022-07-02T12:36:32.950214Z",
     "iopub.status.idle": "2022-07-02T12:36:32.960467Z",
     "shell.execute_reply": "2022-07-02T12:36:32.958861Z"
    },
    "papermill": {
     "duration": 0.045671,
     "end_time": "2022-07-02T12:36:32.962905",
     "exception": false,
     "start_time": "2022-07-02T12:36:32.917234",
     "status": "completed"
    },
    "tags": []
   },
   "outputs": [
    {
     "data": {
      "text/plain": [
       "[('The', 'DT'),\n",
       " ('big', 'JJ'),\n",
       " ('cat', 'NN'),\n",
       " ('ate', 'VBD'),\n",
       " ('the', 'DT'),\n",
       " ('little', 'JJ'),\n",
       " ('mouse', 'NN'),\n",
       " ('who', 'WP'),\n",
       " ('was', 'VBD'),\n",
       " ('after', 'IN'),\n",
       " ('fresh', 'JJ'),\n",
       " ('cheese', 'NN')]"
      ]
     },
     "execution_count": 46,
     "metadata": {},
     "output_type": "execute_result"
    }
   ],
   "source": [
    "new = \"The big cat ate the little mouse who was after fresh cheese\"\n",
    "new_tokens = nltk.pos_tag(word_tokenize(new))\n",
    "new_tokens"
   ]
  },
  {
   "cell_type": "code",
   "execution_count": 47,
   "id": "868206eb",
   "metadata": {
    "execution": {
     "iopub.execute_input": "2022-07-02T12:36:33.027928Z",
     "iopub.status.busy": "2022-07-02T12:36:33.027560Z",
     "iopub.status.idle": "2022-07-02T12:36:33.032950Z",
     "shell.execute_reply": "2022-07-02T12:36:33.031765Z"
    },
    "papermill": {
     "duration": 0.04082,
     "end_time": "2022-07-02T12:36:33.035573",
     "exception": false,
     "start_time": "2022-07-02T12:36:32.994753",
     "status": "completed"
    },
    "tags": []
   },
   "outputs": [],
   "source": [
    "grammar_np = r\"NP: {<DT>?<JJ>*<NN>}\""
   ]
  },
  {
   "cell_type": "code",
   "execution_count": 48,
   "id": "318d9b02",
   "metadata": {
    "execution": {
     "iopub.execute_input": "2022-07-02T12:36:33.101202Z",
     "iopub.status.busy": "2022-07-02T12:36:33.100833Z",
     "iopub.status.idle": "2022-07-02T12:36:33.107171Z",
     "shell.execute_reply": "2022-07-02T12:36:33.105909Z"
    },
    "papermill": {
     "duration": 0.042342,
     "end_time": "2022-07-02T12:36:33.109780",
     "exception": false,
     "start_time": "2022-07-02T12:36:33.067438",
     "status": "completed"
    },
    "tags": []
   },
   "outputs": [],
   "source": [
    "chunk_parser = nltk.RegexpParser(grammar_np)"
   ]
  },
  {
   "cell_type": "code",
   "execution_count": 49,
   "id": "b507749e",
   "metadata": {
    "execution": {
     "iopub.execute_input": "2022-07-02T12:36:33.150543Z",
     "iopub.status.busy": "2022-07-02T12:36:33.150196Z",
     "iopub.status.idle": "2022-07-02T12:36:33.197665Z",
     "shell.execute_reply": "2022-07-02T12:36:33.196936Z"
    },
    "papermill": {
     "duration": 0.069413,
     "end_time": "2022-07-02T12:36:33.199275",
     "exception": false,
     "start_time": "2022-07-02T12:36:33.129862",
     "status": "completed"
    },
    "tags": []
   },
   "outputs": [
    {
     "ename": "TclError",
     "evalue": "no display name and no $DISPLAY environment variable",
     "output_type": "error",
     "traceback": [
      "\u001b[0;31m---------------------------------------------------------------------------\u001b[0m",
      "\u001b[0;31mTclError\u001b[0m                                  Traceback (most recent call last)",
      "\u001b[0;32m/opt/conda/lib/python3.7/site-packages/IPython/core/formatters.py\u001b[0m in \u001b[0;36m__call__\u001b[0;34m(self, obj)\u001b[0m\n\u001b[1;32m    343\u001b[0m             \u001b[0mmethod\u001b[0m \u001b[0;34m=\u001b[0m \u001b[0mget_real_method\u001b[0m\u001b[0;34m(\u001b[0m\u001b[0mobj\u001b[0m\u001b[0;34m,\u001b[0m \u001b[0mself\u001b[0m\u001b[0;34m.\u001b[0m\u001b[0mprint_method\u001b[0m\u001b[0;34m)\u001b[0m\u001b[0;34m\u001b[0m\u001b[0;34m\u001b[0m\u001b[0m\n\u001b[1;32m    344\u001b[0m             \u001b[0;32mif\u001b[0m \u001b[0mmethod\u001b[0m \u001b[0;32mis\u001b[0m \u001b[0;32mnot\u001b[0m \u001b[0;32mNone\u001b[0m\u001b[0;34m:\u001b[0m\u001b[0;34m\u001b[0m\u001b[0;34m\u001b[0m\u001b[0m\n\u001b[0;32m--> 345\u001b[0;31m                 \u001b[0;32mreturn\u001b[0m \u001b[0mmethod\u001b[0m\u001b[0;34m(\u001b[0m\u001b[0;34m)\u001b[0m\u001b[0;34m\u001b[0m\u001b[0;34m\u001b[0m\u001b[0m\n\u001b[0m\u001b[1;32m    346\u001b[0m             \u001b[0;32mreturn\u001b[0m \u001b[0;32mNone\u001b[0m\u001b[0;34m\u001b[0m\u001b[0;34m\u001b[0m\u001b[0m\n\u001b[1;32m    347\u001b[0m         \u001b[0;32melse\u001b[0m\u001b[0;34m:\u001b[0m\u001b[0;34m\u001b[0m\u001b[0;34m\u001b[0m\u001b[0m\n",
      "\u001b[0;32m/opt/conda/lib/python3.7/site-packages/nltk/tree.py\u001b[0m in \u001b[0;36m_repr_png_\u001b[0;34m(self)\u001b[0m\n\u001b[1;32m    717\u001b[0m         \u001b[0;32mfrom\u001b[0m \u001b[0mnltk\u001b[0m\u001b[0;34m.\u001b[0m\u001b[0mdraw\u001b[0m\u001b[0;34m.\u001b[0m\u001b[0mutil\u001b[0m \u001b[0;32mimport\u001b[0m \u001b[0mCanvasFrame\u001b[0m\u001b[0;34m\u001b[0m\u001b[0;34m\u001b[0m\u001b[0m\n\u001b[1;32m    718\u001b[0m         \u001b[0;32mfrom\u001b[0m \u001b[0mnltk\u001b[0m\u001b[0;34m.\u001b[0m\u001b[0minternals\u001b[0m \u001b[0;32mimport\u001b[0m \u001b[0mfind_binary\u001b[0m\u001b[0;34m\u001b[0m\u001b[0;34m\u001b[0m\u001b[0m\n\u001b[0;32m--> 719\u001b[0;31m         \u001b[0m_canvas_frame\u001b[0m \u001b[0;34m=\u001b[0m \u001b[0mCanvasFrame\u001b[0m\u001b[0;34m(\u001b[0m\u001b[0;34m)\u001b[0m\u001b[0;34m\u001b[0m\u001b[0;34m\u001b[0m\u001b[0m\n\u001b[0m\u001b[1;32m    720\u001b[0m         \u001b[0mwidget\u001b[0m \u001b[0;34m=\u001b[0m \u001b[0mtree_to_treesegment\u001b[0m\u001b[0;34m(\u001b[0m\u001b[0m_canvas_frame\u001b[0m\u001b[0;34m.\u001b[0m\u001b[0mcanvas\u001b[0m\u001b[0;34m(\u001b[0m\u001b[0;34m)\u001b[0m\u001b[0;34m,\u001b[0m \u001b[0mself\u001b[0m\u001b[0;34m)\u001b[0m\u001b[0;34m\u001b[0m\u001b[0;34m\u001b[0m\u001b[0m\n\u001b[1;32m    721\u001b[0m         \u001b[0m_canvas_frame\u001b[0m\u001b[0;34m.\u001b[0m\u001b[0madd_widget\u001b[0m\u001b[0;34m(\u001b[0m\u001b[0mwidget\u001b[0m\u001b[0;34m)\u001b[0m\u001b[0;34m\u001b[0m\u001b[0;34m\u001b[0m\u001b[0m\n",
      "\u001b[0;32m/opt/conda/lib/python3.7/site-packages/nltk/draw/util.py\u001b[0m in \u001b[0;36m__init__\u001b[0;34m(self, parent, **kw)\u001b[0m\n\u001b[1;32m   1651\u001b[0m         \u001b[0;31m# If no parent was given, set up a top-level window.\u001b[0m\u001b[0;34m\u001b[0m\u001b[0;34m\u001b[0m\u001b[0;34m\u001b[0m\u001b[0m\n\u001b[1;32m   1652\u001b[0m         \u001b[0;32mif\u001b[0m \u001b[0mparent\u001b[0m \u001b[0;32mis\u001b[0m \u001b[0;32mNone\u001b[0m\u001b[0;34m:\u001b[0m\u001b[0;34m\u001b[0m\u001b[0;34m\u001b[0m\u001b[0m\n\u001b[0;32m-> 1653\u001b[0;31m             \u001b[0mself\u001b[0m\u001b[0;34m.\u001b[0m\u001b[0m_parent\u001b[0m \u001b[0;34m=\u001b[0m \u001b[0mTk\u001b[0m\u001b[0;34m(\u001b[0m\u001b[0;34m)\u001b[0m\u001b[0;34m\u001b[0m\u001b[0;34m\u001b[0m\u001b[0m\n\u001b[0m\u001b[1;32m   1654\u001b[0m             \u001b[0mself\u001b[0m\u001b[0;34m.\u001b[0m\u001b[0m_parent\u001b[0m\u001b[0;34m.\u001b[0m\u001b[0mtitle\u001b[0m\u001b[0;34m(\u001b[0m\u001b[0;34m'NLTK'\u001b[0m\u001b[0;34m)\u001b[0m\u001b[0;34m\u001b[0m\u001b[0;34m\u001b[0m\u001b[0m\n\u001b[1;32m   1655\u001b[0m             \u001b[0mself\u001b[0m\u001b[0;34m.\u001b[0m\u001b[0m_parent\u001b[0m\u001b[0;34m.\u001b[0m\u001b[0mbind\u001b[0m\u001b[0;34m(\u001b[0m\u001b[0;34m'<Control-p>'\u001b[0m\u001b[0;34m,\u001b[0m \u001b[0;32mlambda\u001b[0m \u001b[0me\u001b[0m\u001b[0;34m:\u001b[0m \u001b[0mself\u001b[0m\u001b[0;34m.\u001b[0m\u001b[0mprint_to_file\u001b[0m\u001b[0;34m(\u001b[0m\u001b[0;34m)\u001b[0m\u001b[0;34m)\u001b[0m\u001b[0;34m\u001b[0m\u001b[0;34m\u001b[0m\u001b[0m\n",
      "\u001b[0;32m/opt/conda/lib/python3.7/tkinter/__init__.py\u001b[0m in \u001b[0;36m__init__\u001b[0;34m(self, screenName, baseName, className, useTk, sync, use)\u001b[0m\n\u001b[1;32m   2021\u001b[0m                 \u001b[0mbaseName\u001b[0m \u001b[0;34m=\u001b[0m \u001b[0mbaseName\u001b[0m \u001b[0;34m+\u001b[0m \u001b[0mext\u001b[0m\u001b[0;34m\u001b[0m\u001b[0;34m\u001b[0m\u001b[0m\n\u001b[1;32m   2022\u001b[0m         \u001b[0minteractive\u001b[0m \u001b[0;34m=\u001b[0m \u001b[0;36m0\u001b[0m\u001b[0;34m\u001b[0m\u001b[0;34m\u001b[0m\u001b[0m\n\u001b[0;32m-> 2023\u001b[0;31m         \u001b[0mself\u001b[0m\u001b[0;34m.\u001b[0m\u001b[0mtk\u001b[0m \u001b[0;34m=\u001b[0m \u001b[0m_tkinter\u001b[0m\u001b[0;34m.\u001b[0m\u001b[0mcreate\u001b[0m\u001b[0;34m(\u001b[0m\u001b[0mscreenName\u001b[0m\u001b[0;34m,\u001b[0m \u001b[0mbaseName\u001b[0m\u001b[0;34m,\u001b[0m \u001b[0mclassName\u001b[0m\u001b[0;34m,\u001b[0m \u001b[0minteractive\u001b[0m\u001b[0;34m,\u001b[0m \u001b[0mwantobjects\u001b[0m\u001b[0;34m,\u001b[0m \u001b[0museTk\u001b[0m\u001b[0;34m,\u001b[0m \u001b[0msync\u001b[0m\u001b[0;34m,\u001b[0m \u001b[0muse\u001b[0m\u001b[0;34m)\u001b[0m\u001b[0;34m\u001b[0m\u001b[0;34m\u001b[0m\u001b[0m\n\u001b[0m\u001b[1;32m   2024\u001b[0m         \u001b[0;32mif\u001b[0m \u001b[0museTk\u001b[0m\u001b[0;34m:\u001b[0m\u001b[0;34m\u001b[0m\u001b[0;34m\u001b[0m\u001b[0m\n\u001b[1;32m   2025\u001b[0m             \u001b[0mself\u001b[0m\u001b[0;34m.\u001b[0m\u001b[0m_loadtk\u001b[0m\u001b[0;34m(\u001b[0m\u001b[0;34m)\u001b[0m\u001b[0;34m\u001b[0m\u001b[0;34m\u001b[0m\u001b[0m\n",
      "\u001b[0;31mTclError\u001b[0m: no display name and no $DISPLAY environment variable"
     ]
    },
    {
     "data": {
      "text/plain": [
       "Tree('S', [Tree('NP', [('The', 'DT'), ('big', 'JJ'), ('cat', 'NN')]), ('ate', 'VBD'), Tree('NP', [('the', 'DT'), ('little', 'JJ'), ('mouse', 'NN')]), ('who', 'WP'), ('was', 'VBD'), ('after', 'IN'), Tree('NP', [('fresh', 'JJ'), ('cheese', 'NN')])])"
      ]
     },
     "execution_count": 49,
     "metadata": {},
     "output_type": "execute_result"
    }
   ],
   "source": [
    "chunk_result = chunk_parser.parse(new_tokens)\n",
    "chunk_result"
   ]
  },
  {
   "cell_type": "code",
   "execution_count": 50,
   "id": "b6d0f9ec",
   "metadata": {
    "execution": {
     "iopub.execute_input": "2022-07-02T12:36:33.239480Z",
     "iopub.status.busy": "2022-07-02T12:36:33.238417Z",
     "iopub.status.idle": "2022-07-02T12:36:33.243950Z",
     "shell.execute_reply": "2022-07-02T12:36:33.242677Z"
    },
    "papermill": {
     "duration": 0.027802,
     "end_time": "2022-07-02T12:36:33.246375",
     "exception": false,
     "start_time": "2022-07-02T12:36:33.218573",
     "status": "completed"
    },
    "tags": []
   },
   "outputs": [],
   "source": [
    "import pandas as pd\n",
    "import numpy as np"
   ]
  },
  {
   "cell_type": "code",
   "execution_count": 51,
   "id": "9136612b",
   "metadata": {
    "execution": {
     "iopub.execute_input": "2022-07-02T12:36:33.311773Z",
     "iopub.status.busy": "2022-07-02T12:36:33.311291Z",
     "iopub.status.idle": "2022-07-02T12:36:33.316093Z",
     "shell.execute_reply": "2022-07-02T12:36:33.314774Z"
    },
    "papermill": {
     "duration": 0.040615,
     "end_time": "2022-07-02T12:36:33.318606",
     "exception": false,
     "start_time": "2022-07-02T12:36:33.277991",
     "status": "completed"
    },
    "tags": []
   },
   "outputs": [],
   "source": [
    "from sklearn.feature_extraction.text import CountVectorizer"
   ]
  },
  {
   "cell_type": "code",
   "execution_count": 52,
   "id": "ca4a1fc7",
   "metadata": {
    "execution": {
     "iopub.execute_input": "2022-07-02T12:36:33.385036Z",
     "iopub.status.busy": "2022-07-02T12:36:33.384696Z",
     "iopub.status.idle": "2022-07-02T12:36:33.390586Z",
     "shell.execute_reply": "2022-07-02T12:36:33.389380Z"
    },
    "papermill": {
     "duration": 0.042346,
     "end_time": "2022-07-02T12:36:33.393410",
     "exception": false,
     "start_time": "2022-07-02T12:36:33.351064",
     "status": "completed"
    },
    "tags": []
   },
   "outputs": [
    {
     "name": "stdout",
     "output_type": "stream",
     "text": [
      "['abc', 'crubadan.zip', 'cess_esp.zip', 'europarl_raw', 'omw.zip', 'gutenberg.zip', 'opinion_lexicon', 'conll2000.zip', 'omw', 'conll2002.zip', 'senseval.zip', 'twitter_samples.zip', 'inaugural.zip', 'wordnet_ic', 'biocreative_ppi', 'product_reviews_1', 'sentence_polarity.zip', 'indian.zip', 'crubadan', 'biocreative_ppi.zip', 'rte.zip', 'twitter_samples', 'problem_reports', 'sinica_treebank', 'movie_reviews', 'paradigms.zip', 'pl196x.zip', 'gazetteers', 'stopwords.zip', 'verbnet.zip', 'reuters.zip', 'mac_morpho', 'names.zip', 'shakespeare.zip', 'alpino.zip', 'udhr2', 'opinion_lexicon.zip', 'brown.zip', 'cess_cat', 'stopwords', 'qc', 'smultron.zip', 'masc_tagged.zip', 'genesis', 'unicode_samples', 'verbnet', 'floresta.zip', 'wordnet', 'udhr', 'conll2000', 'chat80', 'movie_reviews.zip', 'ppattach', 'machado.zip', 'treebank', 'ppattach.zip', 'problem_reports.zip', 'inaugural', 'toolbox.zip', 'floresta', 'pil', 'kimmo.zip', 'swadesh.zip', 'mte_teip5', 'ieer', 'switchboard', 'product_reviews_2.zip', 'qc.zip', 'webtext', 'shakespeare', 'dependency_treebank.zip', 'names', 'cess_esp', 'europarl_raw.zip', 'mte_teip5.zip', 'state_union.zip', 'jeita.zip', 'pl196x', 'sentence_polarity', 'conll2007.zip', 'ycoe', 'unicode_samples.zip', 'pil.zip', 'pros_cons.zip', 'lin_thesaurus', 'alpino', 'subjectivity.zip', 'timit.zip', 'udhr.zip', 'kimmo', 'swadesh', 'sinica_treebank.zip', 'rte', 'cess_cat.zip', 'propbank.zip', 'udhr2.zip', 'chat80.zip', 'pros_cons', 'ptb', 'brown_tei.zip', 'sentiwordnet.zip', 'city_database.zip', 'abc.zip', 'wordnet.zip', 'product_reviews_1.zip', 'gutenberg', 'ycoe.zip', 'mac_morpho.zip', 'nps_chat.zip', 'city_database', 'brown_tei', 'lin_thesaurus.zip', 'treebank.zip', 'dependency_treebank', 'state_union', 'ieer.zip', 'cmudict.zip', 'knbc.zip', 'gazetteers.zip', 'timit', 'indian', 'cmudict', 'genesis.zip', 'senseval', 'universal_treebanks_v20.zip', 'switchboard.zip', 'ptb.zip', 'words.zip', 'webtext.zip', 'brown', 'sentiwordnet', 'toolbox', 'product_reviews_2', 'nps_chat', 'wordnet_ic.zip', 'subjectivity', 'words', 'paradigms', 'semcor.zip', 'smultron', 'conll2002', 'comtrans.zip']\n"
     ]
    }
   ],
   "source": [
    "print(os.listdir(nltk.data.find(\"corpora\")))"
   ]
  },
  {
   "cell_type": "code",
   "execution_count": 53,
   "id": "25da0dd2",
   "metadata": {
    "execution": {
     "iopub.execute_input": "2022-07-02T12:36:33.458525Z",
     "iopub.status.busy": "2022-07-02T12:36:33.457804Z",
     "iopub.status.idle": "2022-07-02T12:36:33.462251Z",
     "shell.execute_reply": "2022-07-02T12:36:33.461275Z"
    },
    "papermill": {
     "duration": 0.039611,
     "end_time": "2022-07-02T12:36:33.464698",
     "exception": false,
     "start_time": "2022-07-02T12:36:33.425087",
     "status": "completed"
    },
    "tags": []
   },
   "outputs": [],
   "source": [
    "from nltk.corpus import movie_reviews "
   ]
  },
  {
   "cell_type": "code",
   "execution_count": 54,
   "id": "83bc4f1b",
   "metadata": {
    "execution": {
     "iopub.execute_input": "2022-07-02T12:36:33.529203Z",
     "iopub.status.busy": "2022-07-02T12:36:33.528661Z",
     "iopub.status.idle": "2022-07-02T12:36:33.563209Z",
     "shell.execute_reply": "2022-07-02T12:36:33.562293Z"
    },
    "papermill": {
     "duration": 0.069097,
     "end_time": "2022-07-02T12:36:33.565256",
     "exception": false,
     "start_time": "2022-07-02T12:36:33.496159",
     "status": "completed"
    },
    "tags": []
   },
   "outputs": [
    {
     "name": "stdout",
     "output_type": "stream",
     "text": [
      "['neg', 'pos']\n"
     ]
    }
   ],
   "source": [
    "print(movie_reviews.categories())"
   ]
  },
  {
   "cell_type": "code",
   "execution_count": 55,
   "id": "461881f3",
   "metadata": {
    "execution": {
     "iopub.execute_input": "2022-07-02T12:36:33.631563Z",
     "iopub.status.busy": "2022-07-02T12:36:33.631032Z",
     "iopub.status.idle": "2022-07-02T12:36:33.638352Z",
     "shell.execute_reply": "2022-07-02T12:36:33.637560Z"
    },
    "papermill": {
     "duration": 0.04246,
     "end_time": "2022-07-02T12:36:33.640224",
     "exception": false,
     "start_time": "2022-07-02T12:36:33.597764",
     "status": "completed"
    },
    "tags": []
   },
   "outputs": [
    {
     "name": "stdout",
     "output_type": "stream",
     "text": [
      "1000\n",
      " \n",
      "['pos/cv000_29590.txt', 'pos/cv001_18431.txt', 'pos/cv002_15918.txt', 'pos/cv003_11664.txt', 'pos/cv004_11636.txt', 'pos/cv005_29443.txt', 'pos/cv006_15448.txt', 'pos/cv007_4968.txt', 'pos/cv008_29435.txt', 'pos/cv009_29592.txt', 'pos/cv010_29198.txt', 'pos/cv011_12166.txt', 'pos/cv012_29576.txt', 'pos/cv013_10159.txt', 'pos/cv014_13924.txt', 'pos/cv015_29439.txt', 'pos/cv016_4659.txt', 'pos/cv017_22464.txt', 'pos/cv018_20137.txt', 'pos/cv019_14482.txt', 'pos/cv020_8825.txt', 'pos/cv021_15838.txt', 'pos/cv022_12864.txt', 'pos/cv023_12672.txt', 'pos/cv024_6778.txt', 'pos/cv025_3108.txt', 'pos/cv026_29325.txt', 'pos/cv027_25219.txt', 'pos/cv028_26746.txt', 'pos/cv029_18643.txt', 'pos/cv030_21593.txt', 'pos/cv031_18452.txt', 'pos/cv032_22550.txt', 'pos/cv033_24444.txt', 'pos/cv034_29647.txt', 'pos/cv035_3954.txt', 'pos/cv036_16831.txt', 'pos/cv037_18510.txt', 'pos/cv038_9749.txt', 'pos/cv039_6170.txt', 'pos/cv040_8276.txt', 'pos/cv041_21113.txt', 'pos/cv042_10982.txt', 'pos/cv043_15013.txt', 'pos/cv044_16969.txt', 'pos/cv045_23923.txt', 'pos/cv046_10188.txt', 'pos/cv047_1754.txt', 'pos/cv048_16828.txt', 'pos/cv049_20471.txt', 'pos/cv050_11175.txt', 'pos/cv051_10306.txt', 'pos/cv052_29378.txt', 'pos/cv053_21822.txt', 'pos/cv054_4230.txt', 'pos/cv055_8338.txt', 'pos/cv056_13133.txt', 'pos/cv057_7453.txt', 'pos/cv058_8025.txt', 'pos/cv059_28885.txt', 'pos/cv060_10844.txt', 'pos/cv061_8837.txt', 'pos/cv062_23115.txt', 'pos/cv063_28997.txt', 'pos/cv064_24576.txt', 'pos/cv065_15248.txt', 'pos/cv066_10821.txt', 'pos/cv067_19774.txt', 'pos/cv068_13400.txt', 'pos/cv069_10801.txt', 'pos/cv070_12289.txt', 'pos/cv071_12095.txt', 'pos/cv072_6169.txt', 'pos/cv073_21785.txt', 'pos/cv074_6875.txt', 'pos/cv075_6500.txt', 'pos/cv076_24945.txt', 'pos/cv077_22138.txt', 'pos/cv078_14730.txt', 'pos/cv079_11933.txt', 'pos/cv080_13465.txt', 'pos/cv081_16582.txt', 'pos/cv082_11080.txt', 'pos/cv083_24234.txt', 'pos/cv084_13566.txt', 'pos/cv085_1381.txt', 'pos/cv086_18371.txt', 'pos/cv087_1989.txt', 'pos/cv088_24113.txt', 'pos/cv089_11418.txt', 'pos/cv090_0042.txt', 'pos/cv091_7400.txt', 'pos/cv092_28017.txt', 'pos/cv093_13951.txt', 'pos/cv094_27889.txt', 'pos/cv095_28892.txt', 'pos/cv096_11474.txt', 'pos/cv097_24970.txt', 'pos/cv098_15435.txt', 'pos/cv099_10534.txt', 'pos/cv100_11528.txt', 'pos/cv101_10175.txt', 'pos/cv102_7846.txt', 'pos/cv103_11021.txt', 'pos/cv104_18134.txt', 'pos/cv105_17990.txt', 'pos/cv106_16807.txt', 'pos/cv107_24319.txt', 'pos/cv108_15571.txt', 'pos/cv109_21172.txt', 'pos/cv110_27788.txt', 'pos/cv111_11473.txt', 'pos/cv112_11193.txt', 'pos/cv113_23102.txt', 'pos/cv114_18398.txt', 'pos/cv115_25396.txt', 'pos/cv116_28942.txt', 'pos/cv117_24295.txt', 'pos/cv118_28980.txt', 'pos/cv119_9867.txt', 'pos/cv120_4111.txt', 'pos/cv121_17302.txt', 'pos/cv122_7392.txt', 'pos/cv123_11182.txt', 'pos/cv124_4122.txt', 'pos/cv125_9391.txt', 'pos/cv126_28971.txt', 'pos/cv127_14711.txt', 'pos/cv128_29627.txt', 'pos/cv129_16741.txt', 'pos/cv130_17083.txt', 'pos/cv131_10713.txt', 'pos/cv132_5618.txt', 'pos/cv133_16336.txt', 'pos/cv134_22246.txt', 'pos/cv135_11603.txt', 'pos/cv136_11505.txt', 'pos/cv137_15422.txt', 'pos/cv138_12721.txt', 'pos/cv139_12873.txt', 'pos/cv140_7479.txt', 'pos/cv141_15686.txt', 'pos/cv142_22516.txt', 'pos/cv143_19666.txt', 'pos/cv144_5007.txt', 'pos/cv145_11472.txt', 'pos/cv146_18458.txt', 'pos/cv147_21193.txt', 'pos/cv148_16345.txt', 'pos/cv149_15670.txt', 'pos/cv150_12916.txt', 'pos/cv151_15771.txt', 'pos/cv152_8736.txt', 'pos/cv153_10779.txt', 'pos/cv154_9328.txt', 'pos/cv155_7308.txt', 'pos/cv156_10481.txt', 'pos/cv157_29372.txt', 'pos/cv158_10390.txt', 'pos/cv159_29505.txt', 'pos/cv160_10362.txt', 'pos/cv161_11425.txt', 'pos/cv162_10424.txt', 'pos/cv163_10052.txt', 'pos/cv164_22447.txt', 'pos/cv165_22619.txt', 'pos/cv166_11052.txt', 'pos/cv167_16376.txt', 'pos/cv168_7050.txt', 'pos/cv169_23778.txt', 'pos/cv170_3006.txt', 'pos/cv171_13537.txt', 'pos/cv172_11131.txt', 'pos/cv173_4471.txt', 'pos/cv174_9659.txt', 'pos/cv175_6964.txt', 'pos/cv176_12857.txt', 'pos/cv177_10367.txt', 'pos/cv178_12972.txt', 'pos/cv179_9228.txt', 'pos/cv180_16113.txt', 'pos/cv181_14401.txt', 'pos/cv182_7281.txt', 'pos/cv183_18612.txt', 'pos/cv184_2673.txt', 'pos/cv185_28654.txt', 'pos/cv186_2269.txt', 'pos/cv187_12829.txt', 'pos/cv188_19226.txt', 'pos/cv189_22934.txt', 'pos/cv190_27052.txt', 'pos/cv191_29719.txt', 'pos/cv192_14395.txt', 'pos/cv193_5416.txt', 'pos/cv194_12079.txt', 'pos/cv195_14528.txt', 'pos/cv196_29027.txt', 'pos/cv197_29328.txt', 'pos/cv198_18180.txt', 'pos/cv199_9629.txt', 'pos/cv200_2915.txt', 'pos/cv201_6997.txt', 'pos/cv202_10654.txt', 'pos/cv203_17986.txt', 'pos/cv204_8451.txt', 'pos/cv205_9457.txt', 'pos/cv206_14293.txt', 'pos/cv207_29284.txt', 'pos/cv208_9020.txt', 'pos/cv209_29118.txt', 'pos/cv210_9312.txt', 'pos/cv211_9953.txt', 'pos/cv212_10027.txt', 'pos/cv213_18934.txt', 'pos/cv214_12294.txt', 'pos/cv215_22240.txt', 'pos/cv216_18738.txt', 'pos/cv217_28842.txt', 'pos/cv218_24352.txt', 'pos/cv219_18626.txt', 'pos/cv220_29059.txt', 'pos/cv221_2695.txt', 'pos/cv222_17395.txt', 'pos/cv223_29066.txt', 'pos/cv224_17661.txt', 'pos/cv225_29224.txt', 'pos/cv226_2618.txt', 'pos/cv227_24215.txt', 'pos/cv228_5806.txt', 'pos/cv229_13611.txt', 'pos/cv230_7428.txt', 'pos/cv231_10425.txt', 'pos/cv232_14991.txt', 'pos/cv233_15964.txt', 'pos/cv234_20643.txt', 'pos/cv235_10217.txt', 'pos/cv236_11565.txt', 'pos/cv237_19221.txt', 'pos/cv238_12931.txt', 'pos/cv239_3385.txt', 'pos/cv240_14336.txt', 'pos/cv241_23130.txt', 'pos/cv242_10638.txt', 'pos/cv243_20728.txt', 'pos/cv244_21649.txt', 'pos/cv245_8569.txt', 'pos/cv246_28807.txt', 'pos/cv247_13142.txt', 'pos/cv248_13987.txt', 'pos/cv249_11640.txt', 'pos/cv250_25616.txt', 'pos/cv251_22636.txt', 'pos/cv252_23779.txt', 'pos/cv253_10077.txt', 'pos/cv254_6027.txt', 'pos/cv255_13683.txt', 'pos/cv256_14740.txt', 'pos/cv257_10975.txt', 'pos/cv258_5792.txt', 'pos/cv259_10934.txt', 'pos/cv260_13959.txt', 'pos/cv261_10954.txt', 'pos/cv262_12649.txt', 'pos/cv263_19259.txt', 'pos/cv264_12801.txt', 'pos/cv265_10814.txt', 'pos/cv266_25779.txt', 'pos/cv267_14952.txt', 'pos/cv268_18834.txt', 'pos/cv269_21732.txt', 'pos/cv270_6079.txt', 'pos/cv271_13837.txt', 'pos/cv272_18974.txt', 'pos/cv273_29112.txt', 'pos/cv274_25253.txt', 'pos/cv275_28887.txt', 'pos/cv276_15684.txt', 'pos/cv277_19091.txt', 'pos/cv278_13041.txt', 'pos/cv279_18329.txt', 'pos/cv280_8267.txt', 'pos/cv281_23253.txt', 'pos/cv282_6653.txt', 'pos/cv283_11055.txt', 'pos/cv284_19119.txt', 'pos/cv285_16494.txt', 'pos/cv286_25050.txt', 'pos/cv287_15900.txt', 'pos/cv288_18791.txt', 'pos/cv289_6463.txt', 'pos/cv290_11084.txt', 'pos/cv291_26635.txt', 'pos/cv292_7282.txt', 'pos/cv293_29856.txt', 'pos/cv294_11684.txt', 'pos/cv295_15570.txt', 'pos/cv296_12251.txt', 'pos/cv297_10047.txt', 'pos/cv298_23111.txt', 'pos/cv299_16214.txt', 'pos/cv300_22284.txt', 'pos/cv301_12146.txt', 'pos/cv302_25649.txt', 'pos/cv303_27520.txt', 'pos/cv304_28706.txt', 'pos/cv305_9946.txt', 'pos/cv306_10364.txt', 'pos/cv307_25270.txt', 'pos/cv308_5016.txt', 'pos/cv309_22571.txt', 'pos/cv310_13091.txt', 'pos/cv311_16002.txt', 'pos/cv312_29377.txt', 'pos/cv313_18198.txt', 'pos/cv314_14422.txt', 'pos/cv315_11629.txt', 'pos/cv316_6370.txt', 'pos/cv317_24049.txt', 'pos/cv318_10493.txt', 'pos/cv319_14727.txt', 'pos/cv320_9530.txt', 'pos/cv321_12843.txt', 'pos/cv322_20318.txt', 'pos/cv323_29805.txt', 'pos/cv324_7082.txt', 'pos/cv325_16629.txt', 'pos/cv326_13295.txt', 'pos/cv327_20292.txt', 'pos/cv328_10373.txt', 'pos/cv329_29370.txt', 'pos/cv330_29809.txt', 'pos/cv331_8273.txt', 'pos/cv332_16307.txt', 'pos/cv333_8916.txt', 'pos/cv334_10001.txt', 'pos/cv335_14665.txt', 'pos/cv336_10143.txt', 'pos/cv337_29181.txt', 'pos/cv338_8821.txt', 'pos/cv339_21119.txt', 'pos/cv340_13287.txt', 'pos/cv341_24430.txt', 'pos/cv342_19456.txt', 'pos/cv343_10368.txt', 'pos/cv344_5312.txt', 'pos/cv345_9954.txt', 'pos/cv346_18168.txt', 'pos/cv347_13194.txt', 'pos/cv348_18176.txt', 'pos/cv349_13507.txt', 'pos/cv350_20670.txt', 'pos/cv351_15458.txt', 'pos/cv352_5524.txt', 'pos/cv353_18159.txt', 'pos/cv354_8132.txt', 'pos/cv355_16413.txt', 'pos/cv356_25163.txt', 'pos/cv357_13156.txt', 'pos/cv358_10691.txt', 'pos/cv359_6647.txt', 'pos/cv360_8398.txt', 'pos/cv361_28944.txt', 'pos/cv362_15341.txt', 'pos/cv363_29332.txt', 'pos/cv364_12901.txt', 'pos/cv365_11576.txt', 'pos/cv366_10221.txt', 'pos/cv367_22792.txt', 'pos/cv368_10466.txt', 'pos/cv369_12886.txt', 'pos/cv370_5221.txt', 'pos/cv371_7630.txt', 'pos/cv372_6552.txt', 'pos/cv373_20404.txt', 'pos/cv374_25436.txt', 'pos/cv375_9929.txt', 'pos/cv376_19435.txt', 'pos/cv377_7946.txt', 'pos/cv378_20629.txt', 'pos/cv379_21963.txt', 'pos/cv380_7574.txt', 'pos/cv381_20172.txt', 'pos/cv382_7897.txt', 'pos/cv383_13116.txt', 'pos/cv384_17140.txt', 'pos/cv385_29741.txt', 'pos/cv386_10080.txt', 'pos/cv387_11507.txt', 'pos/cv388_12009.txt', 'pos/cv389_9369.txt', 'pos/cv390_11345.txt', 'pos/cv391_10802.txt', 'pos/cv392_11458.txt', 'pos/cv393_29327.txt', 'pos/cv394_5137.txt', 'pos/cv395_10849.txt', 'pos/cv396_17989.txt', 'pos/cv397_29023.txt', 'pos/cv398_15537.txt', 'pos/cv399_2877.txt', 'pos/cv400_19220.txt', 'pos/cv401_12605.txt', 'pos/cv402_14425.txt', 'pos/cv403_6621.txt', 'pos/cv404_20315.txt', 'pos/cv405_20399.txt', 'pos/cv406_21020.txt', 'pos/cv407_22637.txt', 'pos/cv408_5297.txt', 'pos/cv409_29786.txt', 'pos/cv410_24266.txt', 'pos/cv411_15007.txt', 'pos/cv412_24095.txt', 'pos/cv413_7398.txt', 'pos/cv414_10518.txt', 'pos/cv415_22517.txt', 'pos/cv416_11136.txt', 'pos/cv417_13115.txt', 'pos/cv418_14774.txt', 'pos/cv419_13394.txt', 'pos/cv420_28795.txt', 'pos/cv421_9709.txt', 'pos/cv422_9381.txt', 'pos/cv423_11155.txt', 'pos/cv424_8831.txt', 'pos/cv425_8250.txt', 'pos/cv426_10421.txt', 'pos/cv427_10825.txt', 'pos/cv428_11347.txt', 'pos/cv429_7439.txt', 'pos/cv430_17351.txt', 'pos/cv431_7085.txt', 'pos/cv432_14224.txt', 'pos/cv433_10144.txt', 'pos/cv434_5793.txt', 'pos/cv435_23110.txt', 'pos/cv436_19179.txt', 'pos/cv437_22849.txt', 'pos/cv438_8043.txt', 'pos/cv439_15970.txt', 'pos/cv440_15243.txt', 'pos/cv441_13711.txt', 'pos/cv442_13846.txt', 'pos/cv443_21118.txt', 'pos/cv444_9974.txt', 'pos/cv445_25882.txt', 'pos/cv446_11353.txt', 'pos/cv447_27332.txt', 'pos/cv448_14695.txt', 'pos/cv449_8785.txt', 'pos/cv450_7890.txt', 'pos/cv451_10690.txt', 'pos/cv452_5088.txt', 'pos/cv453_10379.txt', 'pos/cv454_2053.txt', 'pos/cv455_29000.txt', 'pos/cv456_18985.txt', 'pos/cv457_18453.txt', 'pos/cv458_8604.txt', 'pos/cv459_20319.txt', 'pos/cv460_10842.txt', 'pos/cv461_19600.txt', 'pos/cv462_19350.txt', 'pos/cv463_10343.txt', 'pos/cv464_15650.txt', 'pos/cv465_22431.txt', 'pos/cv466_18722.txt', 'pos/cv467_25773.txt', 'pos/cv468_15228.txt', 'pos/cv469_20630.txt', 'pos/cv470_15952.txt', 'pos/cv471_16858.txt', 'pos/cv472_29280.txt', 'pos/cv473_7367.txt', 'pos/cv474_10209.txt', 'pos/cv475_21692.txt', 'pos/cv476_16856.txt', 'pos/cv477_22479.txt', 'pos/cv478_14309.txt', 'pos/cv479_5649.txt', 'pos/cv480_19817.txt', 'pos/cv481_7436.txt', 'pos/cv482_10580.txt', 'pos/cv483_16378.txt', 'pos/cv484_25054.txt', 'pos/cv485_26649.txt', 'pos/cv486_9799.txt', 'pos/cv487_10446.txt', 'pos/cv488_19856.txt', 'pos/cv489_17906.txt', 'pos/cv490_17872.txt', 'pos/cv491_12145.txt', 'pos/cv492_18271.txt', 'pos/cv493_12839.txt', 'pos/cv494_17389.txt', 'pos/cv495_14518.txt', 'pos/cv496_10530.txt', 'pos/cv497_26980.txt', 'pos/cv498_8832.txt', 'pos/cv499_10658.txt', 'pos/cv500_10251.txt', 'pos/cv501_11657.txt', 'pos/cv502_10406.txt', 'pos/cv503_10558.txt', 'pos/cv504_29243.txt', 'pos/cv505_12090.txt', 'pos/cv506_15956.txt', 'pos/cv507_9220.txt', 'pos/cv508_16006.txt', 'pos/cv509_15888.txt', 'pos/cv510_23360.txt', 'pos/cv511_10132.txt', 'pos/cv512_15965.txt', 'pos/cv513_6923.txt', 'pos/cv514_11187.txt', 'pos/cv515_17069.txt', 'pos/cv516_11172.txt', 'pos/cv517_19219.txt', 'pos/cv518_13331.txt', 'pos/cv519_14661.txt', 'pos/cv520_12295.txt', 'pos/cv521_15828.txt', 'pos/cv522_5583.txt', 'pos/cv523_16615.txt', 'pos/cv524_23627.txt', 'pos/cv525_16122.txt', 'pos/cv526_12083.txt', 'pos/cv527_10123.txt', 'pos/cv528_10822.txt', 'pos/cv529_10420.txt', 'pos/cv530_16212.txt', 'pos/cv531_26486.txt', 'pos/cv532_6522.txt', 'pos/cv533_9821.txt', 'pos/cv534_14083.txt', 'pos/cv535_19728.txt', 'pos/cv536_27134.txt', 'pos/cv537_12370.txt', 'pos/cv538_28667.txt', 'pos/cv539_20347.txt', 'pos/cv540_3421.txt', 'pos/cv541_28835.txt', 'pos/cv542_18980.txt', 'pos/cv543_5045.txt', 'pos/cv544_5108.txt', 'pos/cv545_12014.txt', 'pos/cv546_11767.txt', 'pos/cv547_16324.txt', 'pos/cv548_17731.txt', 'pos/cv549_21443.txt', 'pos/cv550_22211.txt', 'pos/cv551_10565.txt', 'pos/cv552_10016.txt', 'pos/cv553_26915.txt', 'pos/cv554_13151.txt', 'pos/cv555_23922.txt', 'pos/cv556_14808.txt', 'pos/cv557_11449.txt', 'pos/cv558_29507.txt', 'pos/cv559_0050.txt', 'pos/cv560_17175.txt', 'pos/cv561_9201.txt', 'pos/cv562_10359.txt', 'pos/cv563_17257.txt', 'pos/cv564_11110.txt', 'pos/cv565_29572.txt', 'pos/cv566_8581.txt', 'pos/cv567_29611.txt', 'pos/cv568_15638.txt', 'pos/cv569_26381.txt', 'pos/cv570_29082.txt', 'pos/cv571_29366.txt', 'pos/cv572_18657.txt', 'pos/cv573_29525.txt', 'pos/cv574_22156.txt', 'pos/cv575_21150.txt', 'pos/cv576_14094.txt', 'pos/cv577_28549.txt', 'pos/cv578_15094.txt', 'pos/cv579_11605.txt', 'pos/cv580_14064.txt', 'pos/cv581_19381.txt', 'pos/cv582_6559.txt', 'pos/cv583_29692.txt', 'pos/cv584_29722.txt', 'pos/cv585_22496.txt', 'pos/cv586_7543.txt', 'pos/cv587_19162.txt', 'pos/cv588_13008.txt', 'pos/cv589_12064.txt', 'pos/cv590_19290.txt', 'pos/cv591_23640.txt', 'pos/cv592_22315.txt', 'pos/cv593_10987.txt', 'pos/cv594_11039.txt', 'pos/cv595_25335.txt', 'pos/cv596_28311.txt', 'pos/cv597_26360.txt', 'pos/cv598_16452.txt', 'pos/cv599_20988.txt', 'pos/cv600_23878.txt', 'pos/cv601_23453.txt', 'pos/cv602_8300.txt', 'pos/cv603_17694.txt', 'pos/cv604_2230.txt', 'pos/cv605_11800.txt', 'pos/cv606_15985.txt', 'pos/cv607_7717.txt', 'pos/cv608_23231.txt', 'pos/cv609_23877.txt', 'pos/cv610_2287.txt', 'pos/cv611_21120.txt', 'pos/cv612_5461.txt', 'pos/cv613_21796.txt', 'pos/cv614_10626.txt', 'pos/cv615_14182.txt', 'pos/cv616_29319.txt', 'pos/cv617_9322.txt', 'pos/cv618_8974.txt', 'pos/cv619_12462.txt', 'pos/cv620_24265.txt', 'pos/cv621_14368.txt', 'pos/cv622_8147.txt', 'pos/cv623_15356.txt', 'pos/cv624_10744.txt', 'pos/cv625_12440.txt', 'pos/cv626_7410.txt', 'pos/cv627_11620.txt', 'pos/cv628_19325.txt', 'pos/cv629_14909.txt', 'pos/cv630_10057.txt', 'pos/cv631_4967.txt', 'pos/cv632_9610.txt', 'pos/cv633_29837.txt', 'pos/cv634_11101.txt', 'pos/cv635_10022.txt', 'pos/cv636_15279.txt', 'pos/cv637_1250.txt', 'pos/cv638_2953.txt', 'pos/cv639_10308.txt', 'pos/cv640_5378.txt', 'pos/cv641_12349.txt', 'pos/cv642_29867.txt', 'pos/cv643_29349.txt', 'pos/cv644_17154.txt', 'pos/cv645_15668.txt', 'pos/cv646_15065.txt', 'pos/cv647_13691.txt', 'pos/cv648_15792.txt', 'pos/cv649_12735.txt', 'pos/cv650_14340.txt', 'pos/cv651_10492.txt', 'pos/cv652_13972.txt', 'pos/cv653_19583.txt', 'pos/cv654_18246.txt', 'pos/cv655_11154.txt', 'pos/cv656_24201.txt', 'pos/cv657_24513.txt', 'pos/cv658_10532.txt', 'pos/cv659_19944.txt', 'pos/cv660_21893.txt', 'pos/cv661_2450.txt', 'pos/cv662_13320.txt', 'pos/cv663_13019.txt', 'pos/cv664_4389.txt', 'pos/cv665_29538.txt', 'pos/cv666_18963.txt', 'pos/cv667_18467.txt', 'pos/cv668_17604.txt', 'pos/cv669_22995.txt', 'pos/cv670_25826.txt', 'pos/cv671_5054.txt', 'pos/cv672_28083.txt', 'pos/cv673_24714.txt', 'pos/cv674_10732.txt', 'pos/cv675_21588.txt', 'pos/cv676_21090.txt', 'pos/cv677_17715.txt', 'pos/cv678_13419.txt', 'pos/cv679_28559.txt', 'pos/cv680_10160.txt', 'pos/cv681_9692.txt', 'pos/cv682_16139.txt', 'pos/cv683_12167.txt', 'pos/cv684_11798.txt', 'pos/cv685_5947.txt', 'pos/cv686_13900.txt', 'pos/cv687_21100.txt', 'pos/cv688_7368.txt', 'pos/cv689_12587.txt', 'pos/cv690_5619.txt', 'pos/cv691_5043.txt', 'pos/cv692_15451.txt', 'pos/cv693_18063.txt', 'pos/cv694_4876.txt', 'pos/cv695_21108.txt', 'pos/cv696_29740.txt', 'pos/cv697_11162.txt', 'pos/cv698_15253.txt', 'pos/cv699_7223.txt', 'pos/cv700_21947.txt', 'pos/cv701_14252.txt', 'pos/cv702_11500.txt', 'pos/cv703_16143.txt', 'pos/cv704_15969.txt', 'pos/cv705_11059.txt', 'pos/cv706_24716.txt', 'pos/cv707_10678.txt', 'pos/cv708_28729.txt', 'pos/cv709_10529.txt', 'pos/cv710_22577.txt', 'pos/cv711_11665.txt', 'pos/cv712_22920.txt', 'pos/cv713_29155.txt', 'pos/cv714_18502.txt', 'pos/cv715_18179.txt', 'pos/cv716_10514.txt', 'pos/cv717_15953.txt', 'pos/cv718_11434.txt', 'pos/cv719_5713.txt', 'pos/cv720_5389.txt', 'pos/cv721_29121.txt', 'pos/cv722_7110.txt', 'pos/cv723_8648.txt', 'pos/cv724_13681.txt', 'pos/cv725_10103.txt', 'pos/cv726_4719.txt', 'pos/cv727_4978.txt', 'pos/cv728_16133.txt', 'pos/cv729_10154.txt', 'pos/cv730_10279.txt', 'pos/cv731_4136.txt', 'pos/cv732_12245.txt', 'pos/cv733_9839.txt', 'pos/cv734_21568.txt', 'pos/cv735_18801.txt', 'pos/cv736_23670.txt', 'pos/cv737_28907.txt', 'pos/cv738_10116.txt', 'pos/cv739_11209.txt', 'pos/cv740_12445.txt', 'pos/cv741_11890.txt', 'pos/cv742_7751.txt', 'pos/cv743_15449.txt', 'pos/cv744_10038.txt', 'pos/cv745_12773.txt', 'pos/cv746_10147.txt', 'pos/cv747_16556.txt', 'pos/cv748_12786.txt', 'pos/cv749_17765.txt', 'pos/cv750_10180.txt', 'pos/cv751_15719.txt', 'pos/cv752_24155.txt', 'pos/cv753_10875.txt', 'pos/cv754_7216.txt', 'pos/cv755_23616.txt', 'pos/cv756_22540.txt', 'pos/cv757_10189.txt', 'pos/cv758_9671.txt', 'pos/cv759_13522.txt', 'pos/cv760_8597.txt', 'pos/cv761_12620.txt', 'pos/cv762_13927.txt', 'pos/cv763_14729.txt', 'pos/cv764_11739.txt', 'pos/cv765_19037.txt', 'pos/cv766_7540.txt', 'pos/cv767_14062.txt', 'pos/cv768_11751.txt', 'pos/cv769_8123.txt', 'pos/cv770_10451.txt', 'pos/cv771_28665.txt', 'pos/cv772_12119.txt', 'pos/cv773_18817.txt', 'pos/cv774_13845.txt', 'pos/cv775_16237.txt', 'pos/cv776_20529.txt', 'pos/cv777_10094.txt', 'pos/cv778_17330.txt', 'pos/cv779_17881.txt', 'pos/cv780_7984.txt', 'pos/cv781_5262.txt', 'pos/cv782_19526.txt', 'pos/cv783_13227.txt', 'pos/cv784_14394.txt', 'pos/cv785_22600.txt', 'pos/cv786_22497.txt', 'pos/cv787_13743.txt', 'pos/cv788_25272.txt', 'pos/cv789_12136.txt', 'pos/cv790_14600.txt', 'pos/cv791_16302.txt', 'pos/cv792_3832.txt', 'pos/cv793_13650.txt', 'pos/cv794_15868.txt', 'pos/cv795_10122.txt', 'pos/cv796_15782.txt', 'pos/cv797_6957.txt', 'pos/cv798_23531.txt', 'pos/cv799_18543.txt', 'pos/cv800_12368.txt', 'pos/cv801_25228.txt', 'pos/cv802_28664.txt', 'pos/cv803_8207.txt', 'pos/cv804_10862.txt', 'pos/cv805_19601.txt', 'pos/cv806_8842.txt', 'pos/cv807_21740.txt', 'pos/cv808_12635.txt', 'pos/cv809_5009.txt', 'pos/cv810_12458.txt', 'pos/cv811_21386.txt', 'pos/cv812_17924.txt', 'pos/cv813_6534.txt', 'pos/cv814_18975.txt', 'pos/cv815_22456.txt', 'pos/cv816_13655.txt', 'pos/cv817_4041.txt', 'pos/cv818_10211.txt', 'pos/cv819_9364.txt', 'pos/cv820_22892.txt', 'pos/cv821_29364.txt', 'pos/cv822_20049.txt', 'pos/cv823_15569.txt', 'pos/cv824_8838.txt', 'pos/cv825_5063.txt', 'pos/cv826_11834.txt', 'pos/cv827_18331.txt', 'pos/cv828_19831.txt', 'pos/cv829_20289.txt', 'pos/cv830_6014.txt', 'pos/cv831_14689.txt', 'pos/cv832_23275.txt', 'pos/cv833_11053.txt', 'pos/cv834_22195.txt', 'pos/cv835_19159.txt', 'pos/cv836_12968.txt', 'pos/cv837_27325.txt', 'pos/cv838_24728.txt', 'pos/cv839_21467.txt', 'pos/cv840_16321.txt', 'pos/cv841_3967.txt', 'pos/cv842_5866.txt', 'pos/cv843_15544.txt', 'pos/cv844_12690.txt', 'pos/cv845_14290.txt', 'pos/cv846_29497.txt', 'pos/cv847_1941.txt', 'pos/cv848_10036.txt', 'pos/cv849_15729.txt', 'pos/cv850_16466.txt', 'pos/cv851_20469.txt', 'pos/cv852_27523.txt', 'pos/cv853_29233.txt', 'pos/cv854_17740.txt', 'pos/cv855_20661.txt', 'pos/cv856_29013.txt', 'pos/cv857_15958.txt', 'pos/cv858_18819.txt', 'pos/cv859_14107.txt', 'pos/cv860_13853.txt', 'pos/cv861_1198.txt', 'pos/cv862_14324.txt', 'pos/cv863_7424.txt', 'pos/cv864_3416.txt', 'pos/cv865_2895.txt', 'pos/cv866_29691.txt', 'pos/cv867_16661.txt', 'pos/cv868_11948.txt', 'pos/cv869_23611.txt', 'pos/cv870_16348.txt', 'pos/cv871_24888.txt', 'pos/cv872_12591.txt', 'pos/cv873_18636.txt', 'pos/cv874_11236.txt', 'pos/cv875_5754.txt', 'pos/cv876_9390.txt', 'pos/cv877_29274.txt', 'pos/cv878_15694.txt', 'pos/cv879_14903.txt', 'pos/cv880_29800.txt', 'pos/cv881_13254.txt', 'pos/cv882_10026.txt', 'pos/cv883_27751.txt', 'pos/cv884_13632.txt', 'pos/cv885_12318.txt', 'pos/cv886_18177.txt', 'pos/cv887_5126.txt', 'pos/cv888_24435.txt', 'pos/cv889_21430.txt', 'pos/cv890_3977.txt', 'pos/cv891_6385.txt', 'pos/cv892_17576.txt', 'pos/cv893_26269.txt', 'pos/cv894_2068.txt', 'pos/cv895_21022.txt', 'pos/cv896_16071.txt', 'pos/cv897_10837.txt', 'pos/cv898_14187.txt', 'pos/cv899_16014.txt', 'pos/cv900_10331.txt', 'pos/cv901_11017.txt', 'pos/cv902_12256.txt', 'pos/cv903_17822.txt', 'pos/cv904_24353.txt', 'pos/cv905_29114.txt', 'pos/cv906_11491.txt', 'pos/cv907_3541.txt', 'pos/cv908_16009.txt', 'pos/cv909_9960.txt', 'pos/cv910_20488.txt', 'pos/cv911_20260.txt', 'pos/cv912_5674.txt', 'pos/cv913_29252.txt', 'pos/cv914_28742.txt', 'pos/cv915_8841.txt', 'pos/cv916_15467.txt', 'pos/cv917_29715.txt', 'pos/cv918_2693.txt', 'pos/cv919_16380.txt', 'pos/cv920_29622.txt', 'pos/cv921_12747.txt', 'pos/cv922_10073.txt', 'pos/cv923_11051.txt', 'pos/cv924_29540.txt', 'pos/cv925_8969.txt', 'pos/cv926_17059.txt', 'pos/cv927_10681.txt', 'pos/cv928_9168.txt', 'pos/cv929_16908.txt', 'pos/cv930_13475.txt', 'pos/cv931_17563.txt', 'pos/cv932_13401.txt', 'pos/cv933_23776.txt', 'pos/cv934_19027.txt', 'pos/cv935_23841.txt', 'pos/cv936_15954.txt', 'pos/cv937_9811.txt', 'pos/cv938_10220.txt', 'pos/cv939_10583.txt', 'pos/cv940_17705.txt', 'pos/cv941_10246.txt', 'pos/cv942_17082.txt', 'pos/cv943_22488.txt', 'pos/cv944_13521.txt', 'pos/cv945_12160.txt', 'pos/cv946_18658.txt', 'pos/cv947_10601.txt', 'pos/cv948_24606.txt', 'pos/cv949_20112.txt', 'pos/cv950_12350.txt', 'pos/cv951_10926.txt', 'pos/cv952_25240.txt', 'pos/cv953_6836.txt', 'pos/cv954_18628.txt', 'pos/cv955_25001.txt', 'pos/cv956_11609.txt', 'pos/cv957_8737.txt', 'pos/cv958_12162.txt', 'pos/cv959_14611.txt', 'pos/cv960_29007.txt', 'pos/cv961_5682.txt', 'pos/cv962_9803.txt', 'pos/cv963_6895.txt', 'pos/cv964_6021.txt', 'pos/cv965_26071.txt', 'pos/cv966_28832.txt', 'pos/cv967_5788.txt', 'pos/cv968_24218.txt', 'pos/cv969_13250.txt', 'pos/cv970_18450.txt', 'pos/cv971_10874.txt', 'pos/cv972_26417.txt', 'pos/cv973_10066.txt', 'pos/cv974_22941.txt', 'pos/cv975_10981.txt', 'pos/cv976_10267.txt', 'pos/cv977_4938.txt', 'pos/cv978_20929.txt', 'pos/cv979_18921.txt', 'pos/cv980_10953.txt', 'pos/cv981_14989.txt', 'pos/cv982_21103.txt', 'pos/cv983_22928.txt', 'pos/cv984_12767.txt', 'pos/cv985_6359.txt', 'pos/cv986_13527.txt', 'pos/cv987_6965.txt', 'pos/cv988_18740.txt', 'pos/cv989_15824.txt', 'pos/cv990_11591.txt', 'pos/cv991_18645.txt', 'pos/cv992_11962.txt', 'pos/cv993_29737.txt', 'pos/cv994_12270.txt', 'pos/cv995_21821.txt', 'pos/cv996_11592.txt', 'pos/cv997_5046.txt', 'pos/cv998_14111.txt', 'pos/cv999_13106.txt']\n"
     ]
    }
   ],
   "source": [
    "print(len(movie_reviews.fileids(\"pos\")))\n",
    "print(\" \")\n",
    "print(movie_reviews.fileids(\"pos\"))"
   ]
  },
  {
   "cell_type": "code",
   "execution_count": 56,
   "id": "9e05049b",
   "metadata": {
    "execution": {
     "iopub.execute_input": "2022-07-02T12:36:33.682758Z",
     "iopub.status.busy": "2022-07-02T12:36:33.682326Z",
     "iopub.status.idle": "2022-07-02T12:36:33.816714Z",
     "shell.execute_reply": "2022-07-02T12:36:33.815205Z"
    },
    "papermill": {
     "duration": 0.157211,
     "end_time": "2022-07-02T12:36:33.818171",
     "exception": true,
     "start_time": "2022-07-02T12:36:33.660960",
     "status": "failed"
    },
    "tags": []
   },
   "outputs": [
    {
     "ename": "NameError",
     "evalue": "name 'neg_rew' is not defined",
     "output_type": "error",
     "traceback": [
      "\u001b[0;31m---------------------------------------------------------------------------\u001b[0m",
      "\u001b[0;31mNameError\u001b[0m                                 Traceback (most recent call last)",
      "\u001b[0;32m/tmp/ipykernel_19/3168420247.py\u001b[0m in \u001b[0;36m<module>\u001b[0;34m\u001b[0m\n\u001b[1;32m      1\u001b[0m \u001b[0mneg_rev\u001b[0m \u001b[0;34m=\u001b[0m \u001b[0mmovie_reviews\u001b[0m\u001b[0;34m.\u001b[0m\u001b[0mfileids\u001b[0m\u001b[0;34m(\u001b[0m\u001b[0;34m\"neg\"\u001b[0m\u001b[0;34m)\u001b[0m\u001b[0;34m\u001b[0m\u001b[0;34m\u001b[0m\u001b[0m\n\u001b[0;32m----> 2\u001b[0;31m \u001b[0mlen\u001b[0m\u001b[0;34m(\u001b[0m\u001b[0mneg_rew\u001b[0m\u001b[0;34m)\u001b[0m\u001b[0;34m\u001b[0m\u001b[0;34m\u001b[0m\u001b[0m\n\u001b[0m",
      "\u001b[0;31mNameError\u001b[0m: name 'neg_rew' is not defined"
     ]
    }
   ],
   "source": [
    "neg_rev = movie_reviews.fileids(\"neg\")\n",
    "len(neg_rew)"
   ]
  },
  {
   "cell_type": "code",
   "execution_count": null,
   "id": "a9cbfaf9",
   "metadata": {
    "execution": {
     "iopub.execute_input": "2022-07-02T12:31:29.669391Z",
     "iopub.status.busy": "2022-07-02T12:31:29.668977Z",
     "iopub.status.idle": "2022-07-02T12:31:29.678589Z",
     "shell.execute_reply": "2022-07-02T12:31:29.677320Z",
     "shell.execute_reply.started": "2022-07-02T12:31:29.669357Z"
    },
    "papermill": {
     "duration": null,
     "end_time": null,
     "exception": null,
     "start_time": null,
     "status": "pending"
    },
    "tags": []
   },
   "outputs": [],
   "source": [
    "rev = nltk.corpus.movie_reviews.words(\"pos/cv000_29590.txt\")\n",
    "rev"
   ]
  },
  {
   "cell_type": "code",
   "execution_count": null,
   "id": "548e8853",
   "metadata": {
    "execution": {
     "iopub.execute_input": "2022-07-02T12:31:29.687192Z",
     "iopub.status.busy": "2022-07-02T12:31:29.686544Z",
     "iopub.status.idle": "2022-07-02T12:31:29.691709Z",
     "shell.execute_reply": "2022-07-02T12:31:29.690565Z",
     "shell.execute_reply.started": "2022-07-02T12:31:29.687158Z"
    },
    "papermill": {
     "duration": null,
     "end_time": null,
     "exception": null,
     "start_time": null,
     "status": "pending"
    },
    "tags": []
   },
   "outputs": [],
   "source": [
    "# we can also use this below code instead of countvectorizer for having any issue."
   ]
  },
  {
   "cell_type": "code",
   "execution_count": null,
   "id": "806fe92d",
   "metadata": {
    "execution": {
     "iopub.execute_input": "2022-07-02T12:31:29.708386Z",
     "iopub.status.busy": "2022-07-02T12:31:29.707652Z",
     "iopub.status.idle": "2022-07-02T12:31:29.714819Z",
     "shell.execute_reply": "2022-07-02T12:31:29.713903Z",
     "shell.execute_reply.started": "2022-07-02T12:31:29.708314Z"
    },
    "papermill": {
     "duration": null,
     "end_time": null,
     "exception": null,
     "start_time": null,
     "status": "pending"
    },
    "tags": []
   },
   "outputs": [],
   "source": [
    "rev_list = []"
   ]
  },
  {
   "cell_type": "code",
   "execution_count": null,
   "id": "7402bc65",
   "metadata": {
    "execution": {
     "iopub.execute_input": "2022-07-02T12:31:29.741828Z",
     "iopub.status.busy": "2022-07-02T12:31:29.741140Z",
     "iopub.status.idle": "2022-07-02T12:31:30.762306Z",
     "shell.execute_reply": "2022-07-02T12:31:30.761021Z",
     "shell.execute_reply.started": "2022-07-02T12:31:29.741794Z"
    },
    "papermill": {
     "duration": null,
     "end_time": null,
     "exception": null,
     "start_time": null,
     "status": "pending"
    },
    "tags": []
   },
   "outputs": [],
   "source": [
    "for rev in neg_rev:\n",
    "    rev_text_neg = rev = nltk.corpus.movie_reviews.words(rev)\n",
    "    review_one_string = \" \".join(rev_text_neg)\n",
    "    review_one_string = review_one_string.replace(\" ,\" , \",\")\n",
    "    review_one_string = review_one_string.replace(\" .\" , \".\")\n",
    "    review_one_string = review_one_string.replace(\"\\'\" , \"'\")\n",
    "    review_one_string = review_one_string.replace(\" \\'\", \"'\")\n",
    "    rev_list.append(review_one_string)                        "
   ]
  },
  {
   "cell_type": "code",
   "execution_count": null,
   "id": "cde03ff2",
   "metadata": {
    "execution": {
     "iopub.execute_input": "2022-07-02T12:31:30.765043Z",
     "iopub.status.busy": "2022-07-02T12:31:30.764674Z",
     "iopub.status.idle": "2022-07-02T12:31:30.773146Z",
     "shell.execute_reply": "2022-07-02T12:31:30.771421Z",
     "shell.execute_reply.started": "2022-07-02T12:31:30.765012Z"
    },
    "papermill": {
     "duration": null,
     "end_time": null,
     "exception": null,
     "start_time": null,
     "status": "pending"
    },
    "tags": []
   },
   "outputs": [],
   "source": [
    "len(rev_list)"
   ]
  },
  {
   "cell_type": "code",
   "execution_count": null,
   "id": "35028d9c",
   "metadata": {
    "execution": {
     "iopub.execute_input": "2022-07-02T12:31:30.775594Z",
     "iopub.status.busy": "2022-07-02T12:31:30.775142Z",
     "iopub.status.idle": "2022-07-02T12:31:30.787037Z",
     "shell.execute_reply": "2022-07-02T12:31:30.785663Z",
     "shell.execute_reply.started": "2022-07-02T12:31:30.775525Z"
    },
    "papermill": {
     "duration": null,
     "end_time": null,
     "exception": null,
     "start_time": null,
     "status": "pending"
    },
    "tags": []
   },
   "outputs": [],
   "source": [
    "pos_rev = movie_reviews.fileids(\"pos\")"
   ]
  },
  {
   "cell_type": "code",
   "execution_count": null,
   "id": "6b52a188",
   "metadata": {
    "execution": {
     "iopub.execute_input": "2022-07-02T12:31:30.791411Z",
     "iopub.status.busy": "2022-07-02T12:31:30.790542Z",
     "iopub.status.idle": "2022-07-02T12:31:31.697868Z",
     "shell.execute_reply": "2022-07-02T12:31:31.696565Z",
     "shell.execute_reply.started": "2022-07-02T12:31:30.791354Z"
    },
    "papermill": {
     "duration": null,
     "end_time": null,
     "exception": null,
     "start_time": null,
     "status": "pending"
    },
    "tags": []
   },
   "outputs": [],
   "source": [
    "for rev_pos in pos_rev:\n",
    "    rev_text_pos = nltk.corpus.movie_reviews.words(rev_pos)\n",
    "    review_one_string = \" \".join(rev_text_neg)\n",
    "    review_one_string = review_one_string.replace(\" ,\" , \",\")\n",
    "    review_one_string = review_one_string.replace(\" .\" , \".\")\n",
    "    review_one_string = review_one_string.replace(\"\\'\" , \"'\")\n",
    "    review_one_string = review_one_string.replace(\" \\'\", \"'\")\n",
    "    rev_list.append(review_one_string)                        "
   ]
  },
  {
   "cell_type": "code",
   "execution_count": null,
   "id": "8827db8c",
   "metadata": {
    "execution": {
     "iopub.execute_input": "2022-07-02T12:31:31.699585Z",
     "iopub.status.busy": "2022-07-02T12:31:31.699261Z",
     "iopub.status.idle": "2022-07-02T12:31:31.706587Z",
     "shell.execute_reply": "2022-07-02T12:31:31.705506Z",
     "shell.execute_reply.started": "2022-07-02T12:31:31.699556Z"
    },
    "papermill": {
     "duration": null,
     "end_time": null,
     "exception": null,
     "start_time": null,
     "status": "pending"
    },
    "tags": []
   },
   "outputs": [],
   "source": [
    "len(rev_list) # 2000 positive reviews"
   ]
  },
  {
   "cell_type": "code",
   "execution_count": null,
   "id": "797ea306",
   "metadata": {
    "execution": {
     "iopub.execute_input": "2022-07-02T12:31:31.708598Z",
     "iopub.status.busy": "2022-07-02T12:31:31.708187Z",
     "iopub.status.idle": "2022-07-02T12:31:31.717769Z",
     "shell.execute_reply": "2022-07-02T12:31:31.716925Z",
     "shell.execute_reply.started": "2022-07-02T12:31:31.708558Z"
    },
    "papermill": {
     "duration": null,
     "end_time": null,
     "exception": null,
     "start_time": null,
     "status": "pending"
    },
    "tags": []
   },
   "outputs": [],
   "source": [
    "neg_targets = np.zeros((1000, ), dtype = np.int)\n",
    "pos_targets = np.ones((1000, ), dtype = np.int)"
   ]
  },
  {
   "cell_type": "code",
   "execution_count": null,
   "id": "d470309c",
   "metadata": {
    "execution": {
     "iopub.execute_input": "2022-07-02T12:31:31.719852Z",
     "iopub.status.busy": "2022-07-02T12:31:31.719076Z",
     "iopub.status.idle": "2022-07-02T12:31:31.730351Z",
     "shell.execute_reply": "2022-07-02T12:31:31.729407Z",
     "shell.execute_reply.started": "2022-07-02T12:31:31.719817Z"
    },
    "papermill": {
     "duration": null,
     "end_time": null,
     "exception": null,
     "start_time": null,
     "status": "pending"
    },
    "tags": []
   },
   "outputs": [],
   "source": [
    "target_list = []\n",
    "for neg_tar in neg_targets:\n",
    "    target_list.append(neg_tar)\n",
    "for pos_tar in pos_targets:\n",
    "    target_list.append(pos_tar)\n"
   ]
  },
  {
   "cell_type": "code",
   "execution_count": null,
   "id": "47a6fcef",
   "metadata": {
    "execution": {
     "iopub.execute_input": "2022-07-02T12:31:31.732354Z",
     "iopub.status.busy": "2022-07-02T12:31:31.731798Z",
     "iopub.status.idle": "2022-07-02T12:31:31.747720Z",
     "shell.execute_reply": "2022-07-02T12:31:31.746662Z",
     "shell.execute_reply.started": "2022-07-02T12:31:31.732323Z"
    },
    "papermill": {
     "duration": null,
     "end_time": null,
     "exception": null,
     "start_time": null,
     "status": "pending"
    },
    "tags": []
   },
   "outputs": [],
   "source": [
    "len(target_list)"
   ]
  },
  {
   "cell_type": "code",
   "execution_count": null,
   "id": "ef54205b",
   "metadata": {
    "execution": {
     "iopub.execute_input": "2022-07-02T12:31:31.749648Z",
     "iopub.status.busy": "2022-07-02T12:31:31.749363Z",
     "iopub.status.idle": "2022-07-02T12:31:31.759272Z",
     "shell.execute_reply": "2022-07-02T12:31:31.758250Z",
     "shell.execute_reply.started": "2022-07-02T12:31:31.749621Z"
    },
    "papermill": {
     "duration": null,
     "end_time": null,
     "exception": null,
     "start_time": null,
     "status": "pending"
    },
    "tags": []
   },
   "outputs": [],
   "source": [
    "y = pd.Series(target_list)"
   ]
  },
  {
   "cell_type": "code",
   "execution_count": null,
   "id": "8727487a",
   "metadata": {
    "execution": {
     "iopub.execute_input": "2022-07-02T12:31:31.765081Z",
     "iopub.status.busy": "2022-07-02T12:31:31.764447Z",
     "iopub.status.idle": "2022-07-02T12:31:31.772741Z",
     "shell.execute_reply": "2022-07-02T12:31:31.771732Z",
     "shell.execute_reply.started": "2022-07-02T12:31:31.765042Z"
    },
    "papermill": {
     "duration": null,
     "end_time": null,
     "exception": null,
     "start_time": null,
     "status": "pending"
    },
    "tags": []
   },
   "outputs": [],
   "source": [
    "type(y)"
   ]
  },
  {
   "cell_type": "code",
   "execution_count": null,
   "id": "7f9ad8ce",
   "metadata": {
    "execution": {
     "iopub.execute_input": "2022-07-02T12:31:31.775588Z",
     "iopub.status.busy": "2022-07-02T12:31:31.774270Z",
     "iopub.status.idle": "2022-07-02T12:31:31.785907Z",
     "shell.execute_reply": "2022-07-02T12:31:31.784666Z",
     "shell.execute_reply.started": "2022-07-02T12:31:31.775542Z"
    },
    "papermill": {
     "duration": null,
     "end_time": null,
     "exception": null,
     "start_time": null,
     "status": "pending"
    },
    "tags": []
   },
   "outputs": [],
   "source": [
    "y.head()"
   ]
  },
  {
   "cell_type": "code",
   "execution_count": null,
   "id": "39f473e0",
   "metadata": {
    "execution": {
     "iopub.execute_input": "2022-07-02T12:31:31.788762Z",
     "iopub.status.busy": "2022-07-02T12:31:31.787480Z",
     "iopub.status.idle": "2022-07-02T12:31:31.796132Z",
     "shell.execute_reply": "2022-07-02T12:31:31.795301Z",
     "shell.execute_reply.started": "2022-07-02T12:31:31.788716Z"
    },
    "papermill": {
     "duration": null,
     "end_time": null,
     "exception": null,
     "start_time": null,
     "status": "pending"
    },
    "tags": []
   },
   "outputs": [],
   "source": [
    "from sklearn.feature_extraction.text import CountVectorizer"
   ]
  },
  {
   "cell_type": "code",
   "execution_count": null,
   "id": "0378ae05",
   "metadata": {
    "execution": {
     "iopub.execute_input": "2022-07-02T12:31:31.798096Z",
     "iopub.status.busy": "2022-07-02T12:31:31.797542Z",
     "iopub.status.idle": "2022-07-02T12:31:31.806865Z",
     "shell.execute_reply": "2022-07-02T12:31:31.806095Z",
     "shell.execute_reply.started": "2022-07-02T12:31:31.798065Z"
    },
    "papermill": {
     "duration": null,
     "end_time": null,
     "exception": null,
     "start_time": null,
     "status": "pending"
    },
    "tags": []
   },
   "outputs": [],
   "source": [
    "count_vect = CountVectorizer(lowercase = True, stop_words = \"english\", min_df = 2)"
   ]
  },
  {
   "cell_type": "code",
   "execution_count": null,
   "id": "de84c695",
   "metadata": {
    "execution": {
     "iopub.execute_input": "2022-07-02T12:31:31.808490Z",
     "iopub.status.busy": "2022-07-02T12:31:31.808205Z",
     "iopub.status.idle": "2022-07-02T12:31:32.897176Z",
     "shell.execute_reply": "2022-07-02T12:31:32.895968Z",
     "shell.execute_reply.started": "2022-07-02T12:31:31.808463Z"
    },
    "papermill": {
     "duration": null,
     "end_time": null,
     "exception": null,
     "start_time": null,
     "status": "pending"
    },
    "tags": []
   },
   "outputs": [],
   "source": [
    "X_count_vect = count_vect.fit_transform(rev_list)"
   ]
  },
  {
   "cell_type": "code",
   "execution_count": null,
   "id": "d5e3ed62",
   "metadata": {
    "execution": {
     "iopub.execute_input": "2022-07-02T12:31:32.899348Z",
     "iopub.status.busy": "2022-07-02T12:31:32.898801Z",
     "iopub.status.idle": "2022-07-02T12:31:32.906448Z",
     "shell.execute_reply": "2022-07-02T12:31:32.905349Z",
     "shell.execute_reply.started": "2022-07-02T12:31:32.899303Z"
    },
    "papermill": {
     "duration": null,
     "end_time": null,
     "exception": null,
     "start_time": null,
     "status": "pending"
    },
    "tags": []
   },
   "outputs": [],
   "source": [
    "X_count_vect.shape"
   ]
  },
  {
   "cell_type": "code",
   "execution_count": null,
   "id": "dc2a617c",
   "metadata": {
    "execution": {
     "iopub.execute_input": "2022-07-02T12:31:32.909108Z",
     "iopub.status.busy": "2022-07-02T12:31:32.907886Z",
     "iopub.status.idle": "2022-07-02T12:31:32.952248Z",
     "shell.execute_reply": "2022-07-02T12:31:32.951335Z",
     "shell.execute_reply.started": "2022-07-02T12:31:32.909064Z"
    },
    "papermill": {
     "duration": null,
     "end_time": null,
     "exception": null,
     "start_time": null,
     "status": "pending"
    },
    "tags": []
   },
   "outputs": [],
   "source": [
    "X_names = count_vect.get_feature_names()\n",
    "X_names"
   ]
  },
  {
   "cell_type": "code",
   "execution_count": null,
   "id": "8658a984",
   "metadata": {
    "execution": {
     "iopub.execute_input": "2022-07-02T12:31:32.954476Z",
     "iopub.status.busy": "2022-07-02T12:31:32.953634Z",
     "iopub.status.idle": "2022-07-02T12:31:33.109384Z",
     "shell.execute_reply": "2022-07-02T12:31:33.108201Z",
     "shell.execute_reply.started": "2022-07-02T12:31:32.954433Z"
    },
    "papermill": {
     "duration": null,
     "end_time": null,
     "exception": null,
     "start_time": null,
     "status": "pending"
    },
    "tags": []
   },
   "outputs": [],
   "source": [
    "X_count_vect = pd.DataFrame(X_count_vect.toarray(), columns = X_names)"
   ]
  },
  {
   "cell_type": "code",
   "execution_count": null,
   "id": "da255f51",
   "metadata": {
    "execution": {
     "iopub.execute_input": "2022-07-02T12:31:33.111163Z",
     "iopub.status.busy": "2022-07-02T12:31:33.110829Z",
     "iopub.status.idle": "2022-07-02T12:31:33.122605Z",
     "shell.execute_reply": "2022-07-02T12:31:33.121602Z",
     "shell.execute_reply.started": "2022-07-02T12:31:33.111132Z"
    },
    "papermill": {
     "duration": null,
     "end_time": null,
     "exception": null,
     "start_time": null,
     "status": "pending"
    },
    "tags": []
   },
   "outputs": [],
   "source": [
    "X_count_vect.shape"
   ]
  },
  {
   "cell_type": "code",
   "execution_count": null,
   "id": "88f76719",
   "metadata": {
    "execution": {
     "iopub.execute_input": "2022-07-02T12:31:33.125031Z",
     "iopub.status.busy": "2022-07-02T12:31:33.124049Z",
     "iopub.status.idle": "2022-07-02T12:31:33.148369Z",
     "shell.execute_reply": "2022-07-02T12:31:33.147585Z",
     "shell.execute_reply.started": "2022-07-02T12:31:33.124987Z"
    },
    "papermill": {
     "duration": null,
     "end_time": null,
     "exception": null,
     "start_time": null,
     "status": "pending"
    },
    "tags": []
   },
   "outputs": [],
   "source": [
    "X_count_vect.head()"
   ]
  },
  {
   "cell_type": "code",
   "execution_count": null,
   "id": "7eba70b5",
   "metadata": {
    "execution": {
     "iopub.execute_input": "2022-07-02T12:31:33.149966Z",
     "iopub.status.busy": "2022-07-02T12:31:33.149516Z",
     "iopub.status.idle": "2022-07-02T12:31:33.161179Z",
     "shell.execute_reply": "2022-07-02T12:31:33.160432Z",
     "shell.execute_reply.started": "2022-07-02T12:31:33.149937Z"
    },
    "papermill": {
     "duration": null,
     "end_time": null,
     "exception": null,
     "start_time": null,
     "status": "pending"
    },
    "tags": []
   },
   "outputs": [],
   "source": [
    "from sklearn.model_selection import train_test_split\n",
    "from sklearn import metrics\n",
    "from sklearn.metrics import confusion_matrix"
   ]
  },
  {
   "cell_type": "code",
   "execution_count": null,
   "id": "b3c5269a",
   "metadata": {
    "execution": {
     "iopub.execute_input": "2022-07-02T12:31:33.162717Z",
     "iopub.status.busy": "2022-07-02T12:31:33.162273Z",
     "iopub.status.idle": "2022-07-02T12:31:33.301231Z",
     "shell.execute_reply": "2022-07-02T12:31:33.300322Z",
     "shell.execute_reply.started": "2022-07-02T12:31:33.162688Z"
    },
    "papermill": {
     "duration": null,
     "end_time": null,
     "exception": null,
     "start_time": null,
     "status": "pending"
    },
    "tags": []
   },
   "outputs": [],
   "source": [
    "X_train_cv, X_test_cv, y_train_cv, y_test_cv = train_test_split(X_count_vect, y, test_size = 0.25, random_state = 5)"
   ]
  },
  {
   "cell_type": "code",
   "execution_count": null,
   "id": "ce81ff93",
   "metadata": {
    "execution": {
     "iopub.execute_input": "2022-07-02T12:31:33.302929Z",
     "iopub.status.busy": "2022-07-02T12:31:33.302450Z",
     "iopub.status.idle": "2022-07-02T12:31:33.308909Z",
     "shell.execute_reply": "2022-07-02T12:31:33.307703Z",
     "shell.execute_reply.started": "2022-07-02T12:31:33.302899Z"
    },
    "papermill": {
     "duration": null,
     "end_time": null,
     "exception": null,
     "start_time": null,
     "status": "pending"
    },
    "tags": []
   },
   "outputs": [],
   "source": [
    "X_train_cv.shape"
   ]
  },
  {
   "cell_type": "code",
   "execution_count": null,
   "id": "569452fd",
   "metadata": {
    "execution": {
     "iopub.execute_input": "2022-07-02T12:31:33.310590Z",
     "iopub.status.busy": "2022-07-02T12:31:33.310274Z",
     "iopub.status.idle": "2022-07-02T12:31:33.325564Z",
     "shell.execute_reply": "2022-07-02T12:31:33.324593Z",
     "shell.execute_reply.started": "2022-07-02T12:31:33.310561Z"
    },
    "papermill": {
     "duration": null,
     "end_time": null,
     "exception": null,
     "start_time": null,
     "status": "pending"
    },
    "tags": []
   },
   "outputs": [],
   "source": [
    "X_test_cv.shape"
   ]
  },
  {
   "cell_type": "code",
   "execution_count": null,
   "id": "056900c9",
   "metadata": {
    "execution": {
     "iopub.execute_input": "2022-07-02T12:31:33.327678Z",
     "iopub.status.busy": "2022-07-02T12:31:33.326995Z",
     "iopub.status.idle": "2022-07-02T12:31:33.336334Z",
     "shell.execute_reply": "2022-07-02T12:31:33.335213Z",
     "shell.execute_reply.started": "2022-07-02T12:31:33.327636Z"
    },
    "papermill": {
     "duration": null,
     "end_time": null,
     "exception": null,
     "start_time": null,
     "status": "pending"
    },
    "tags": []
   },
   "outputs": [],
   "source": [
    "from sklearn.naive_bayes import GaussianNB"
   ]
  },
  {
   "cell_type": "code",
   "execution_count": null,
   "id": "07a0ed41",
   "metadata": {
    "execution": {
     "iopub.execute_input": "2022-07-02T12:31:33.338516Z",
     "iopub.status.busy": "2022-07-02T12:31:33.337952Z",
     "iopub.status.idle": "2022-07-02T12:31:34.202621Z",
     "shell.execute_reply": "2022-07-02T12:31:34.201504Z",
     "shell.execute_reply.started": "2022-07-02T12:31:33.338481Z"
    },
    "papermill": {
     "duration": null,
     "end_time": null,
     "exception": null,
     "start_time": null,
     "status": "pending"
    },
    "tags": []
   },
   "outputs": [],
   "source": [
    "gnb = GaussianNB()\n",
    "y_pred_gnb = gnb.fit(X_train_cv, y_train_cv).predict(X_test_cv)"
   ]
  },
  {
   "cell_type": "code",
   "execution_count": null,
   "id": "d00d3043",
   "metadata": {
    "execution": {
     "iopub.execute_input": "2022-07-02T12:31:34.204949Z",
     "iopub.status.busy": "2022-07-02T12:31:34.204302Z",
     "iopub.status.idle": "2022-07-02T12:31:34.209454Z",
     "shell.execute_reply": "2022-07-02T12:31:34.208405Z",
     "shell.execute_reply.started": "2022-07-02T12:31:34.204914Z"
    },
    "papermill": {
     "duration": null,
     "end_time": null,
     "exception": null,
     "start_time": null,
     "status": "pending"
    },
    "tags": []
   },
   "outputs": [],
   "source": [
    "from sklearn.naive_bayes import MultinomialNB"
   ]
  },
  {
   "cell_type": "code",
   "execution_count": null,
   "id": "eeb6d19a",
   "metadata": {
    "execution": {
     "iopub.execute_input": "2022-07-02T12:31:34.211305Z",
     "iopub.status.busy": "2022-07-02T12:31:34.210995Z",
     "iopub.status.idle": "2022-07-02T12:31:34.222381Z",
     "shell.execute_reply": "2022-07-02T12:31:34.221559Z",
     "shell.execute_reply.started": "2022-07-02T12:31:34.211276Z"
    },
    "papermill": {
     "duration": null,
     "end_time": null,
     "exception": null,
     "start_time": null,
     "status": "pending"
    },
    "tags": []
   },
   "outputs": [],
   "source": [
    "clf_cv = MultinomialNB()"
   ]
  },
  {
   "cell_type": "code",
   "execution_count": null,
   "id": "eabee5a2",
   "metadata": {
    "execution": {
     "iopub.execute_input": "2022-07-02T12:31:34.226964Z",
     "iopub.status.busy": "2022-07-02T12:31:34.226447Z",
     "iopub.status.idle": "2022-07-02T12:31:34.558968Z",
     "shell.execute_reply": "2022-07-02T12:31:34.557869Z",
     "shell.execute_reply.started": "2022-07-02T12:31:34.226929Z"
    },
    "papermill": {
     "duration": null,
     "end_time": null,
     "exception": null,
     "start_time": null,
     "status": "pending"
    },
    "tags": []
   },
   "outputs": [],
   "source": [
    "clf_cv.fit(X_train_cv, y_train_cv)"
   ]
  },
  {
   "cell_type": "code",
   "execution_count": null,
   "id": "18031886",
   "metadata": {
    "execution": {
     "iopub.execute_input": "2022-07-02T12:32:26.720918Z",
     "iopub.status.busy": "2022-07-02T12:32:26.720415Z",
     "iopub.status.idle": "2022-07-02T12:32:26.924530Z",
     "shell.execute_reply": "2022-07-02T12:32:26.923349Z",
     "shell.execute_reply.started": "2022-07-02T12:32:26.720877Z"
    },
    "papermill": {
     "duration": null,
     "end_time": null,
     "exception": null,
     "start_time": null,
     "status": "pending"
    },
    "tags": []
   },
   "outputs": [],
   "source": [
    "y_pred_cv = clf_cv.predict(X_test_cv)\n",
    "type(y_pred_cv)"
   ]
  },
  {
   "cell_type": "code",
   "execution_count": null,
   "id": "c043b4d2",
   "metadata": {
    "execution": {
     "iopub.execute_input": "2022-07-02T12:33:16.626205Z",
     "iopub.status.busy": "2022-07-02T12:33:16.625815Z",
     "iopub.status.idle": "2022-07-02T12:33:16.633163Z",
     "shell.execute_reply": "2022-07-02T12:33:16.632038Z",
     "shell.execute_reply.started": "2022-07-02T12:33:16.626173Z"
    },
    "papermill": {
     "duration": null,
     "end_time": null,
     "exception": null,
     "start_time": null,
     "status": "pending"
    },
    "tags": []
   },
   "outputs": [],
   "source": [
    "print(metrics.accuracy_score(y_test_cv, y_pred_cv))"
   ]
  },
  {
   "cell_type": "code",
   "execution_count": null,
   "id": "19bc9c3f",
   "metadata": {
    "execution": {
     "iopub.execute_input": "2022-07-02T12:34:15.862636Z",
     "iopub.status.busy": "2022-07-02T12:34:15.862256Z",
     "iopub.status.idle": "2022-07-02T12:34:15.873132Z",
     "shell.execute_reply": "2022-07-02T12:34:15.871834Z",
     "shell.execute_reply.started": "2022-07-02T12:34:15.862607Z"
    },
    "papermill": {
     "duration": null,
     "end_time": null,
     "exception": null,
     "start_time": null,
     "status": "pending"
    },
    "tags": []
   },
   "outputs": [],
   "source": [
    "score_clf_cv = confusion_matrix(y_test_cv, y_pred_cv)\n",
    "score_clf_cv"
   ]
  },
  {
   "cell_type": "markdown",
   "id": "d498a916",
   "metadata": {
    "execution": {
     "iopub.execute_input": "2022-07-02T12:34:48.985380Z",
     "iopub.status.busy": "2022-07-02T12:34:48.984997Z",
     "iopub.status.idle": "2022-07-02T12:34:48.992534Z",
     "shell.execute_reply": "2022-07-02T12:34:48.991084Z",
     "shell.execute_reply.started": "2022-07-02T12:34:48.985346Z"
    },
    "papermill": {
     "duration": null,
     "end_time": null,
     "exception": null,
     "start_time": null,
     "status": "pending"
    },
    "tags": []
   },
   "source": [
    "# Reference\n",
    "https://www.youtube.com/watch?v=05ONoGfmKvA"
   ]
  },
  {
   "cell_type": "code",
   "execution_count": null,
   "id": "8741489b",
   "metadata": {
    "papermill": {
     "duration": null,
     "end_time": null,
     "exception": null,
     "start_time": null,
     "status": "pending"
    },
    "tags": []
   },
   "outputs": [],
   "source": []
  }
 ],
 "metadata": {
  "kernelspec": {
   "display_name": "Python 3",
   "language": "python",
   "name": "python3"
  },
  "language_info": {
   "codemirror_mode": {
    "name": "ipython",
    "version": 3
   },
   "file_extension": ".py",
   "mimetype": "text/x-python",
   "name": "python",
   "nbconvert_exporter": "python",
   "pygments_lexer": "ipython3",
   "version": "3.7.12"
  },
  "papermill": {
   "default_parameters": {},
   "duration": 20.168292,
   "end_time": "2022-07-02T12:36:34.861538",
   "environment_variables": {},
   "exception": true,
   "input_path": "__notebook__.ipynb",
   "output_path": "__notebook__.ipynb",
   "parameters": {},
   "start_time": "2022-07-02T12:36:14.693246",
   "version": "2.3.4"
  }
 },
 "nbformat": 4,
 "nbformat_minor": 5
}
