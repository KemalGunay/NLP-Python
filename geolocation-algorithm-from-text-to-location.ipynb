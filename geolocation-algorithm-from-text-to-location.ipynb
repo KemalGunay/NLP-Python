{
 "cells": [
  {
   "cell_type": "markdown",
   "id": "a11c6e7b",
   "metadata": {
    "papermill": {
     "duration": 0.010009,
     "end_time": "2022-07-18T13:11:23.113942",
     "exception": false,
     "start_time": "2022-07-18T13:11:23.103933",
     "status": "completed"
    },
    "tags": []
   },
   "source": [
    "<font color = \"blue\">\n",
    "Content:\n",
    "    \n",
    "1. [Problem](#1)\n",
    "2. [Libraries](#2)\n",
    "3. [Load Data](#3)\n",
    "4. [Extract Data](#4)\n",
    "5. [Name Entity](#5)\n",
    "6. [Clean-Filter](#6)\n",
    "7. [Find The Coordinate](#7)\n",
    "8. [Outputs](#8)\n",
    "9. [References](#9)\n",
    "    \n",
    "Written by Kemal Gunay"
   ]
  },
  {
   "cell_type": "markdown",
   "id": "34b83fde",
   "metadata": {
    "papermill": {
     "duration": 0.006152,
     "end_time": "2022-07-18T13:11:23.126776",
     "exception": false,
     "start_time": "2022-07-18T13:11:23.120624",
     "status": "completed"
    },
    "tags": []
   },
   "source": [
    "<a id = \"1\"></a><br>\n",
    "# 1. Problem\n",
    "\n",
    "Task description: A big part of our daily data collection is creating algorithms that can extract key pieces of information from a wide range of data sources. In this task, you are required to create an algorithm that takes as input a pdf file corresponding to a research publication (provided by us) and outputs a list of all geographical locations mentioned in the publication. For each geographical location, the algorithm will have to additionally identify the country that the location belongs to, and return a latitude- longitude pair corresponding to the centroid of the respective country.\n",
    "\n",
    "The example below:\n",
    "* 1) Location: Russia, Country: Russia, Centroid: (61.52401, 105.318756)\n",
    "* 2) Location: Alberta, Country: Canada, Centroid: (56.130366, -106.346771)\n",
    "* 3) Location: Scottish Highlands, Country: UK, Centroid: (55.378051, -3.435973)\n",
    "* 4) Location: Northern Alaska, Country: US, Centroid: ( 37.09024, -95.712891)\n",
    "\n",
    "Submission requirements: a jupyter notebook file that takes as input any pdf file provided and outputs a csv file containing each location detected in the text of the publication in the format described above. A csv file containing the output for each of the sample pdfs provided.\n",
    "\n",
    "The notebook file should have one example pdf run through each cell, providing the outputs along the way for easy inspection. However, the code should be completely independent of the pdf file provided (if we re-run the notebook on a new pdf file, the output should still be correct).\n"
   ]
  },
  {
   "cell_type": "markdown",
   "id": "e87c877f",
   "metadata": {
    "papermill": {
     "duration": 0.006223,
     "end_time": "2022-07-18T13:11:23.139577",
     "exception": false,
     "start_time": "2022-07-18T13:11:23.133354",
     "status": "completed"
    },
    "tags": []
   },
   "source": [
    "<a id = \"2\"></a><br>\n",
    "# 2. Libraries"
   ]
  },
  {
   "cell_type": "code",
   "execution_count": 1,
   "id": "3c978789",
   "metadata": {
    "_execution_state": "idle",
    "_uuid": "051d70d956493feee0c6d64651c6a088724dca2a",
    "execution": {
     "iopub.execute_input": "2022-07-18T13:11:23.154923Z",
     "iopub.status.busy": "2022-07-18T13:11:23.154307Z",
     "iopub.status.idle": "2022-07-18T13:12:00.923576Z",
     "shell.execute_reply": "2022-07-18T13:12:00.922592Z"
    },
    "papermill": {
     "duration": 37.780013,
     "end_time": "2022-07-18T13:12:00.926247",
     "exception": false,
     "start_time": "2022-07-18T13:11:23.146234",
     "status": "completed"
    },
    "tags": []
   },
   "outputs": [
    {
     "name": "stdout",
     "output_type": "stream",
     "text": [
      "Collecting PyPDF2\r\n",
      "  Downloading PyPDF2-2.6.0-py3-none-any.whl (201 kB)\r\n",
      "\u001b[2K     \u001b[90m━━━━━━━━━━━━━━━━━━━━━━━━━━━━━━━━━━━━━━━\u001b[0m \u001b[32m201.9/201.9 kB\u001b[0m \u001b[31m2.7 MB/s\u001b[0m eta \u001b[36m0:00:00\u001b[0m\r\n",
      "\u001b[?25hRequirement already satisfied: typing-extensions in /opt/conda/lib/python3.7/site-packages (from PyPDF2) (4.2.0)\r\n",
      "Installing collected packages: PyPDF2\r\n",
      "Successfully installed PyPDF2-2.6.0\r\n",
      "\u001b[33mWARNING: Running pip as the 'root' user can result in broken permissions and conflicting behaviour with the system package manager. It is recommended to use a virtual environment instead: https://pip.pypa.io/warnings/venv\u001b[0m\u001b[33m\r\n",
      "\u001b[0mCollecting openpyxl\r\n",
      "  Downloading openpyxl-3.0.10-py2.py3-none-any.whl (242 kB)\r\n",
      "\u001b[2K     \u001b[90m━━━━━━━━━━━━━━━━━━━━━━━━━━━━━━━━━━━━━━━\u001b[0m \u001b[32m242.1/242.1 kB\u001b[0m \u001b[31m3.1 MB/s\u001b[0m eta \u001b[36m0:00:00\u001b[0m\r\n",
      "\u001b[?25hCollecting et-xmlfile\r\n",
      "  Downloading et_xmlfile-1.1.0-py3-none-any.whl (4.7 kB)\r\n",
      "Installing collected packages: et-xmlfile, openpyxl\r\n",
      "Successfully installed et-xmlfile-1.1.0 openpyxl-3.0.10\r\n",
      "\u001b[33mWARNING: Running pip as the 'root' user can result in broken permissions and conflicting behaviour with the system package manager. It is recommended to use a virtual environment instead: https://pip.pypa.io/warnings/venv\u001b[0m\u001b[33m\r\n",
      "\u001b[0m"
     ]
    }
   ],
   "source": [
    "# Installation\n",
    "!pip install PyPDF2\n",
    "!pip install openpyxl\n",
    "\n",
    "# Libraries\n",
    "import pandas as pd\n",
    "import numpy as np\n",
    "from PyPDF2 import PdfFileReader\n",
    "import spacy\n",
    "from spacy import displacy\n",
    "from geopy.exc import GeocoderTimedOut\n",
    "from geopy.geocoders import Nominatim\n",
    "\n",
    "pd.set_option('display.max_columns', None)\n",
    "pd.set_option('display.float_format', lambda x: '%.3f' % x)\n",
    "pd.set_option('display.width', 500)"
   ]
  },
  {
   "cell_type": "markdown",
   "id": "7d75d234",
   "metadata": {
    "papermill": {
     "duration": 0.007825,
     "end_time": "2022-07-18T13:12:00.942120",
     "exception": false,
     "start_time": "2022-07-18T13:12:00.934295",
     "status": "completed"
    },
    "tags": []
   },
   "source": [
    "<a id = \"3\"></a><br>\n",
    "# 3. Load Data"
   ]
  },
  {
   "cell_type": "code",
   "execution_count": 2,
   "id": "54748f2f",
   "metadata": {
    "execution": {
     "iopub.execute_input": "2022-07-18T13:12:00.960491Z",
     "iopub.status.busy": "2022-07-18T13:12:00.959076Z",
     "iopub.status.idle": "2022-07-18T13:12:01.027941Z",
     "shell.execute_reply": "2022-07-18T13:12:01.026679Z"
    },
    "papermill": {
     "duration": 0.08036,
     "end_time": "2022-07-18T13:12:01.030270",
     "exception": false,
     "start_time": "2022-07-18T13:12:00.949910",
     "status": "completed"
    },
    "tags": []
   },
   "outputs": [
    {
     "name": "stderr",
     "output_type": "stream",
     "text": [
      "/opt/conda/lib/python3.7/site-packages/PyPDF2/_reader.py:1368: PdfReadWarning: Xref table not zero-indexed. ID numbers for objects will be corrected.\n",
      "  PdfReadWarning,\n"
     ]
    }
   ],
   "source": [
    "# Read PDF Data\n",
    "target_file = \"../input/nlpgeo/Moore1995-1.pdf\"\n",
    "opened_file = open(target_file, \"rb\")\n",
    "pdf = PdfFileReader(opened_file)"
   ]
  },
  {
   "cell_type": "markdown",
   "id": "e4cd5cdf",
   "metadata": {
    "papermill": {
     "duration": 0.007327,
     "end_time": "2022-07-18T13:12:01.045426",
     "exception": false,
     "start_time": "2022-07-18T13:12:01.038099",
     "status": "completed"
    },
    "tags": []
   },
   "source": [
    "<a id = \"4\"></a><br>\n",
    "# 4. Extract Text"
   ]
  },
  {
   "cell_type": "code",
   "execution_count": 3,
   "id": "98f17f75",
   "metadata": {
    "execution": {
     "iopub.execute_input": "2022-07-18T13:12:01.062874Z",
     "iopub.status.busy": "2022-07-18T13:12:01.062080Z",
     "iopub.status.idle": "2022-07-18T13:12:01.080281Z",
     "shell.execute_reply": "2022-07-18T13:12:01.079093Z"
    },
    "papermill": {
     "duration": 0.029412,
     "end_time": "2022-07-18T13:12:01.082597",
     "exception": false,
     "start_time": "2022-07-18T13:12:01.053185",
     "status": "completed"
    },
    "tags": []
   },
   "outputs": [
    {
     "data": {
      "text/plain": [
       "16"
      ]
     },
     "execution_count": 3,
     "metadata": {},
     "output_type": "execute_result"
    }
   ],
   "source": [
    "# get pages number\n",
    "num_pages = pdf.getNumPages()\n",
    "num_pages"
   ]
  },
  {
   "cell_type": "code",
   "execution_count": 4,
   "id": "0f331f65",
   "metadata": {
    "execution": {
     "iopub.execute_input": "2022-07-18T13:12:01.100207Z",
     "iopub.status.busy": "2022-07-18T13:12:01.099729Z",
     "iopub.status.idle": "2022-07-18T13:12:02.327414Z",
     "shell.execute_reply": "2022-07-18T13:12:02.326075Z"
    },
    "papermill": {
     "duration": 1.23962,
     "end_time": "2022-07-18T13:12:02.330117",
     "exception": false,
     "start_time": "2022-07-18T13:12:01.090497",
     "status": "completed"
    },
    "tags": []
   },
   "outputs": [],
   "source": [
    "# extract text\n",
    "text = \"\"\n",
    "for i in range(num_pages):\n",
    "    page = pdf.getPage(i)\n",
    "    text = text + \" \" + page.extractText()"
   ]
  },
  {
   "cell_type": "markdown",
   "id": "d2b5859f",
   "metadata": {
    "papermill": {
     "duration": 0.007661,
     "end_time": "2022-07-18T13:12:02.345665",
     "exception": false,
     "start_time": "2022-07-18T13:12:02.338004",
     "status": "completed"
    },
    "tags": []
   },
   "source": [
    "<a id = \"5\"></a><br>\n",
    "# 5. Name-Entity"
   ]
  },
  {
   "cell_type": "code",
   "execution_count": 5,
   "id": "12e6b3a0",
   "metadata": {
    "execution": {
     "iopub.execute_input": "2022-07-18T13:12:02.364106Z",
     "iopub.status.busy": "2022-07-18T13:12:02.363687Z",
     "iopub.status.idle": "2022-07-18T13:12:03.313171Z",
     "shell.execute_reply": "2022-07-18T13:12:03.312165Z"
    },
    "papermill": {
     "duration": 0.961395,
     "end_time": "2022-07-18T13:12:03.315628",
     "exception": false,
     "start_time": "2022-07-18T13:12:02.354233",
     "status": "completed"
    },
    "tags": []
   },
   "outputs": [],
   "source": [
    "# name entity\n",
    "nlp = spacy.load(\"en_core_web_sm\")\n",
    "# nlp = spacy.load(\"en_core_web_lg\") # another english model"
   ]
  },
  {
   "cell_type": "code",
   "execution_count": 6,
   "id": "5711b94c",
   "metadata": {
    "execution": {
     "iopub.execute_input": "2022-07-18T13:12:03.333887Z",
     "iopub.status.busy": "2022-07-18T13:12:03.333472Z",
     "iopub.status.idle": "2022-07-18T13:12:06.924748Z",
     "shell.execute_reply": "2022-07-18T13:12:06.923663Z"
    },
    "papermill": {
     "duration": 3.603726,
     "end_time": "2022-07-18T13:12:06.927183",
     "exception": false,
     "start_time": "2022-07-18T13:12:03.323457",
     "status": "completed"
    },
    "tags": []
   },
   "outputs": [],
   "source": [
    "doc = nlp(text)\n",
    "\n",
    "entities = []\n",
    "labels = []\n",
    "position_start = []\n",
    "position_end = []\n",
    "\n",
    "for ent in doc.ents:\n",
    "    entities.append(ent)\n",
    "    labels.append(ent.label_)\n",
    "    position_start.append(ent.start_char)\n",
    "    position_end.append(ent.end_char)"
   ]
  },
  {
   "cell_type": "markdown",
   "id": "c45ef788",
   "metadata": {
    "papermill": {
     "duration": 0.007722,
     "end_time": "2022-07-18T13:12:06.943324",
     "exception": false,
     "start_time": "2022-07-18T13:12:06.935602",
     "status": "completed"
    },
    "tags": []
   },
   "source": [
    "<a id = \"6\"></a><br>\n",
    "# 6. Clean-Filter Data"
   ]
  },
  {
   "cell_type": "code",
   "execution_count": 7,
   "id": "da4e30f6",
   "metadata": {
    "execution": {
     "iopub.execute_input": "2022-07-18T13:12:06.961482Z",
     "iopub.status.busy": "2022-07-18T13:12:06.961067Z",
     "iopub.status.idle": "2022-07-18T13:12:06.971826Z",
     "shell.execute_reply": "2022-07-18T13:12:06.970685Z"
    },
    "papermill": {
     "duration": 0.022701,
     "end_time": "2022-07-18T13:12:06.974114",
     "exception": false,
     "start_time": "2022-07-18T13:12:06.951413",
     "status": "completed"
    },
    "tags": []
   },
   "outputs": [],
   "source": [
    "# Filtering locations\n",
    "places = []  # places in document but there are some incorrect nouns\n",
    "for ent in doc.ents:\n",
    "    if (ent.label_ == \"GPE\") | (ent.label_ == \"LOC\"):\n",
    "        places.append(ent.text)"
   ]
  },
  {
   "cell_type": "code",
   "execution_count": 8,
   "id": "a1b06f9d",
   "metadata": {
    "execution": {
     "iopub.execute_input": "2022-07-18T13:12:06.992784Z",
     "iopub.status.busy": "2022-07-18T13:12:06.992373Z",
     "iopub.status.idle": "2022-07-18T13:12:07.001321Z",
     "shell.execute_reply": "2022-07-18T13:12:07.000248Z"
    },
    "papermill": {
     "duration": 0.020991,
     "end_time": "2022-07-18T13:12:07.003469",
     "exception": false,
     "start_time": "2022-07-18T13:12:06.982478",
     "status": "completed"
    },
    "tags": []
   },
   "outputs": [
    {
     "data": {
      "text/plain": [
       "['Manitoba',\n",
       " 'Canada',\n",
       " 'Montreal',\n",
       " 'Quebec',\n",
       " 'Canada',\n",
       " 'lagg',\n",
       " 'Kcorr',\n",
       " 'pH',\n",
       " 'Whalen',\n",
       " 'Reeburgh',\n",
       " 'Harriss',\n",
       " 'Sundh',\n",
       " 'Chanton',\n",
       " 'Dacey',\n",
       " 'Bay Lowland',\n",
       " 'Alaska',\n",
       " 'Thompson',\n",
       " 'Manitoba',\n",
       " 'Thompson',\n",
       " 'Manitoba',\n",
       " 'spp.',\n",
       " 'Zoltai',\n",
       " 'communities',\n",
       " 'palsas',\n",
       " 'Roulet',\n",
       " 'Thompson',\n",
       " 'pH',\n",
       " 'Riley',\n",
       " 'Wilkinson',\n",
       " 'Braak',\n",
       " 'pH',\n",
       " 's.d.',\n",
       " 'the Zo)tai fen',\n",
       " 'pH',\n",
       " 'pH',\n",
       " 'lagg',\n",
       " 'TF',\n",
       " 'Palsa',\n",
       " 'Calliergon',\n",
       " 'Meesia',\n",
       " 'fens',\n",
       " 'palsas',\n",
       " 'Chamaedaphne',\n",
       " 'Betula',\n",
       " 'lagg',\n",
       " 'Reeburgh',\n",
       " 'Vaccinium',\n",
       " 'Calliergon',\n",
       " 'Betula',\n",
       " 'Meesia',\n",
       " 'pH',\n",
       " 'Canada',\n",
       " 'pH',\n",
       " 'Ontario',\n",
       " 'Dalva',\n",
       " 'pH',\n",
       " 'Kcorr',\n",
       " 'pH',\n",
       " 'Schefferville',\n",
       " 'Quebec',\n",
       " 'the Hudson Bay Lowlands',\n",
       " 'pH',\n",
       " 'Ontario',\n",
       " 'Quebec',\n",
       " 'Clay Belt',\n",
       " 'Ontario',\n",
       " 'Schefferville',\n",
       " 'Quebec',\n",
       " 'Chanton',\n",
       " 'Dacey',\n",
       " 'Chanton',\n",
       " 'Chanton',\n",
       " 'Warnstorfia',\n",
       " 'Roulet',\n",
       " 'lagg',\n",
       " 'lagg',\n",
       " 'Habenaria',\n",
       " 'intermedia',\n",
       " 'Calliergon',\n",
       " 'Sphagnum',\n",
       " 'North America',\n",
       " 'Mexico',\n",
       " 'North America',\n",
       " 'Mexico',\n",
       " 'Alaska',\n",
       " 'Res.',\n",
       " 'Microbial Production',\n",
       " 'Washington D.C.',\n",
       " 'Ontario',\n",
       " 'Canada',\n",
       " 'Ontario',\n",
       " 'Canada',\n",
       " 'Ecol.',\n",
       " 'Academic',\n",
       " 'San Diego',\n",
       " 'Calif.',\n",
       " 'Res.',\n",
       " 'P.M.',\n",
       " 'Minnesota',\n",
       " 'P.M.',\n",
       " 'Microbial Production',\n",
       " 'Washington D.C.',\n",
       " 'P.M.',\n",
       " 'Suo',\n",
       " 'New York',\n",
       " 'Minnesota',\n",
       " 'Res.',\n",
       " 'New \\nYork',\n",
       " 'Portland',\n",
       " 'Ore.',\n",
       " 'New Hampshire',\n",
       " 'Res.',\n",
       " 'Ocean',\n",
       " 'T. R.',\n",
       " 'Hudson Bay',\n",
       " 'Res.',\n",
       " 'Toronto',\n",
       " 'Res.',\n",
       " 'the Hudson Bay',\n",
       " 'Res.',\n",
       " 'Oikos',\n",
       " 'North America',\n",
       " 'Bryologist',\n",
       " 'Suo',\n",
       " 'Wageningen',\n",
       " 'Netherlands',\n",
       " 'Canada',\n",
       " 'Whalen',\n",
       " 'S.C.',\n",
       " 'Whalen',\n",
       " 'Plant',\n",
       " 'Wilkinson',\n",
       " 'Zoltai',\n",
       " 'S.C.',\n",
       " 'Wetland',\n",
       " 'Wetlands',\n",
       " 'Canada',\n",
       " 'Montreal',\n",
       " 'Quebec',\n",
       " 'Canada',\n",
       " 'Alberta',\n",
       " 'Canada',\n",
       " 'Montreal',\n",
       " 'Quebec',\n",
       " 'Canada']"
      ]
     },
     "execution_count": 8,
     "metadata": {},
     "output_type": "execute_result"
    }
   ],
   "source": [
    "# Places from our content\n",
    "places"
   ]
  },
  {
   "cell_type": "code",
   "execution_count": 9,
   "id": "41dd270d",
   "metadata": {
    "execution": {
     "iopub.execute_input": "2022-07-18T13:12:07.022509Z",
     "iopub.status.busy": "2022-07-18T13:12:07.022113Z",
     "iopub.status.idle": "2022-07-18T13:12:14.672399Z",
     "shell.execute_reply": "2022-07-18T13:12:14.671369Z"
    },
    "papermill": {
     "duration": 7.663048,
     "end_time": "2022-07-18T13:12:14.674857",
     "exception": false,
     "start_time": "2022-07-18T13:12:07.011809",
     "status": "completed"
    },
    "tags": []
   },
   "outputs": [],
   "source": [
    "# we will check our content places with the this lists if they are correct or not\n",
    "# the file is in helpers folder\n",
    "df = pd.read_excel(\"../input/worldcities/world_cities.xlsx\")"
   ]
  },
  {
   "cell_type": "code",
   "execution_count": 10,
   "id": "2480e8ac",
   "metadata": {
    "execution": {
     "iopub.execute_input": "2022-07-18T13:12:14.693106Z",
     "iopub.status.busy": "2022-07-18T13:12:14.692619Z",
     "iopub.status.idle": "2022-07-18T13:12:14.739194Z",
     "shell.execute_reply": "2022-07-18T13:12:14.738234Z"
    },
    "papermill": {
     "duration": 0.058675,
     "end_time": "2022-07-18T13:12:14.741792",
     "exception": false,
     "start_time": "2022-07-18T13:12:14.683117",
     "status": "completed"
    },
    "tags": []
   },
   "outputs": [
    {
     "data": {
      "text/html": [
       "<div>\n",
       "<style scoped>\n",
       "    .dataframe tbody tr th:only-of-type {\n",
       "        vertical-align: middle;\n",
       "    }\n",
       "\n",
       "    .dataframe tbody tr th {\n",
       "        vertical-align: top;\n",
       "    }\n",
       "\n",
       "    .dataframe thead th {\n",
       "        text-align: right;\n",
       "    }\n",
       "</style>\n",
       "<table border=\"1\" class=\"dataframe\">\n",
       "  <thead>\n",
       "    <tr style=\"text-align: right;\">\n",
       "      <th></th>\n",
       "      <th>location</th>\n",
       "      <th>country</th>\n",
       "    </tr>\n",
       "  </thead>\n",
       "  <tbody>\n",
       "    <tr>\n",
       "      <th>12</th>\n",
       "      <td>New York</td>\n",
       "      <td>United States</td>\n",
       "    </tr>\n",
       "    <tr>\n",
       "      <th>126</th>\n",
       "      <td>Toronto</td>\n",
       "      <td>Canada</td>\n",
       "    </tr>\n",
       "    <tr>\n",
       "      <th>234</th>\n",
       "      <td>San Diego</td>\n",
       "      <td>United States</td>\n",
       "    </tr>\n",
       "    <tr>\n",
       "      <th>366</th>\n",
       "      <td>Portland</td>\n",
       "      <td>United States</td>\n",
       "    </tr>\n",
       "    <tr>\n",
       "      <th>2801</th>\n",
       "      <td>Portland</td>\n",
       "      <td>United States</td>\n",
       "    </tr>\n",
       "    <tr>\n",
       "      <th>...</th>\n",
       "      <td>...</td>\n",
       "      <td>...</td>\n",
       "    </tr>\n",
       "    <tr>\n",
       "      <th>85505</th>\n",
       "      <td>Alberta</td>\n",
       "      <td>Canada</td>\n",
       "    </tr>\n",
       "    <tr>\n",
       "      <th>85542</th>\n",
       "      <td>Quebec</td>\n",
       "      <td>Canada</td>\n",
       "    </tr>\n",
       "    <tr>\n",
       "      <th>85568</th>\n",
       "      <td>Quebec</td>\n",
       "      <td>Canada</td>\n",
       "    </tr>\n",
       "    <tr>\n",
       "      <th>85600</th>\n",
       "      <td>Quebec</td>\n",
       "      <td>Canada</td>\n",
       "    </tr>\n",
       "    <tr>\n",
       "      <th>85601</th>\n",
       "      <td>Manitoba</td>\n",
       "      <td>Canada</td>\n",
       "    </tr>\n",
       "  </tbody>\n",
       "</table>\n",
       "<p>1342 rows × 2 columns</p>\n",
       "</div>"
      ],
      "text/plain": [
       "        location        country\n",
       "12      New York  United States\n",
       "126      Toronto         Canada\n",
       "234    San Diego  United States\n",
       "366     Portland  United States\n",
       "2801    Portland  United States\n",
       "...          ...            ...\n",
       "85505    Alberta         Canada\n",
       "85542     Quebec         Canada\n",
       "85568     Quebec         Canada\n",
       "85600     Quebec         Canada\n",
       "85601   Manitoba         Canada\n",
       "\n",
       "[1342 rows x 2 columns]"
      ]
     },
     "execution_count": 10,
     "metadata": {},
     "output_type": "execute_result"
    }
   ],
   "source": [
    "# take out dublicate rows - locations\n",
    "df1 = df[df[df.columns[0]].isin(places)][['location', 'country']]\n",
    "df1"
   ]
  },
  {
   "cell_type": "code",
   "execution_count": 11,
   "id": "621fabaa",
   "metadata": {
    "execution": {
     "iopub.execute_input": "2022-07-18T13:12:14.760462Z",
     "iopub.status.busy": "2022-07-18T13:12:14.760037Z",
     "iopub.status.idle": "2022-07-18T13:12:14.775259Z",
     "shell.execute_reply": "2022-07-18T13:12:14.774490Z"
    },
    "papermill": {
     "duration": 0.026891,
     "end_time": "2022-07-18T13:12:14.777189",
     "exception": false,
     "start_time": "2022-07-18T13:12:14.750298",
     "status": "completed"
    },
    "tags": []
   },
   "outputs": [
    {
     "data": {
      "text/html": [
       "<div>\n",
       "<style scoped>\n",
       "    .dataframe tbody tr th:only-of-type {\n",
       "        vertical-align: middle;\n",
       "    }\n",
       "\n",
       "    .dataframe tbody tr th {\n",
       "        vertical-align: top;\n",
       "    }\n",
       "\n",
       "    .dataframe thead th {\n",
       "        text-align: right;\n",
       "    }\n",
       "</style>\n",
       "<table border=\"1\" class=\"dataframe\">\n",
       "  <thead>\n",
       "    <tr style=\"text-align: right;\">\n",
       "      <th></th>\n",
       "      <th>location</th>\n",
       "      <th>country</th>\n",
       "    </tr>\n",
       "  </thead>\n",
       "  <tbody>\n",
       "    <tr>\n",
       "      <th>12</th>\n",
       "      <td>New York</td>\n",
       "      <td>United States</td>\n",
       "    </tr>\n",
       "    <tr>\n",
       "      <th>126</th>\n",
       "      <td>Toronto</td>\n",
       "      <td>Canada</td>\n",
       "    </tr>\n",
       "    <tr>\n",
       "      <th>234</th>\n",
       "      <td>San Diego</td>\n",
       "      <td>United States</td>\n",
       "    </tr>\n",
       "    <tr>\n",
       "      <th>366</th>\n",
       "      <td>Portland</td>\n",
       "      <td>United States</td>\n",
       "    </tr>\n",
       "    <tr>\n",
       "      <th>3002</th>\n",
       "      <td>San Diego</td>\n",
       "      <td>Venezuela</td>\n",
       "    </tr>\n",
       "    <tr>\n",
       "      <th>3033</th>\n",
       "      <td>Ontario</td>\n",
       "      <td>United States</td>\n",
       "    </tr>\n",
       "    <tr>\n",
       "      <th>3183</th>\n",
       "      <td>Mexico</td>\n",
       "      <td>Philippines</td>\n",
       "    </tr>\n",
       "    <tr>\n",
       "      <th>14368</th>\n",
       "      <td>Wageningen</td>\n",
       "      <td>Netherlands</td>\n",
       "    </tr>\n",
       "    <tr>\n",
       "      <th>17685</th>\n",
       "      <td>Ocean</td>\n",
       "      <td>United States</td>\n",
       "    </tr>\n",
       "    <tr>\n",
       "      <th>24318</th>\n",
       "      <td>Thompson</td>\n",
       "      <td>United States</td>\n",
       "    </tr>\n",
       "    <tr>\n",
       "      <th>25479</th>\n",
       "      <td>Thompson</td>\n",
       "      <td>Canada</td>\n",
       "    </tr>\n",
       "    <tr>\n",
       "      <th>28028</th>\n",
       "      <td>Mexico</td>\n",
       "      <td>United States</td>\n",
       "    </tr>\n",
       "    <tr>\n",
       "      <th>30269</th>\n",
       "      <td>Portland</td>\n",
       "      <td>Australia</td>\n",
       "    </tr>\n",
       "    <tr>\n",
       "      <th>34478</th>\n",
       "      <td>San Diego</td>\n",
       "      <td>Guatemala</td>\n",
       "    </tr>\n",
       "    <tr>\n",
       "      <th>36518</th>\n",
       "      <td>Palsa</td>\n",
       "      <td>India</td>\n",
       "    </tr>\n",
       "    <tr>\n",
       "      <th>43031</th>\n",
       "      <td>Ontario</td>\n",
       "      <td>Canada</td>\n",
       "    </tr>\n",
       "    <tr>\n",
       "      <th>43122</th>\n",
       "      <td>Quebec</td>\n",
       "      <td>Canada</td>\n",
       "    </tr>\n",
       "    <tr>\n",
       "      <th>43162</th>\n",
       "      <td>Minnesota</td>\n",
       "      <td>United States</td>\n",
       "    </tr>\n",
       "    <tr>\n",
       "      <th>43463</th>\n",
       "      <td>Alberta</td>\n",
       "      <td>Canada</td>\n",
       "    </tr>\n",
       "    <tr>\n",
       "      <th>43622</th>\n",
       "      <td>Manitoba</td>\n",
       "      <td>Canada</td>\n",
       "    </tr>\n",
       "    <tr>\n",
       "      <th>45052</th>\n",
       "      <td>Alaska</td>\n",
       "      <td>United States</td>\n",
       "    </tr>\n",
       "    <tr>\n",
       "      <th>45423</th>\n",
       "      <td>New Hampshire</td>\n",
       "      <td>United States</td>\n",
       "    </tr>\n",
       "    <tr>\n",
       "      <th>51057</th>\n",
       "      <td>Portland</td>\n",
       "      <td>Jamaica</td>\n",
       "    </tr>\n",
       "  </tbody>\n",
       "</table>\n",
       "</div>"
      ],
      "text/plain": [
       "            location        country\n",
       "12          New York  United States\n",
       "126          Toronto         Canada\n",
       "234        San Diego  United States\n",
       "366         Portland  United States\n",
       "3002       San Diego      Venezuela\n",
       "3033         Ontario  United States\n",
       "3183          Mexico    Philippines\n",
       "14368     Wageningen    Netherlands\n",
       "17685          Ocean  United States\n",
       "24318       Thompson  United States\n",
       "25479       Thompson         Canada\n",
       "28028         Mexico  United States\n",
       "30269       Portland      Australia\n",
       "34478      San Diego      Guatemala\n",
       "36518          Palsa          India\n",
       "43031        Ontario         Canada\n",
       "43122         Quebec         Canada\n",
       "43162      Minnesota  United States\n",
       "43463        Alberta         Canada\n",
       "43622       Manitoba         Canada\n",
       "45052         Alaska  United States\n",
       "45423  New Hampshire  United States\n",
       "51057       Portland        Jamaica"
      ]
     },
     "execution_count": 11,
     "metadata": {},
     "output_type": "execute_result"
    }
   ],
   "source": [
    "df1.drop_duplicates(inplace = True)\n",
    "df1"
   ]
  },
  {
   "cell_type": "markdown",
   "id": "d610197e",
   "metadata": {
    "papermill": {
     "duration": 0.008402,
     "end_time": "2022-07-18T13:12:14.794241",
     "exception": false,
     "start_time": "2022-07-18T13:12:14.785839",
     "status": "completed"
    },
    "tags": []
   },
   "source": [
    "<a id = \"7\"></a><br>\n",
    "# 7. Find The Coordinate"
   ]
  },
  {
   "cell_type": "code",
   "execution_count": 12,
   "id": "e88bc5cb",
   "metadata": {
    "execution": {
     "iopub.execute_input": "2022-07-18T13:12:14.814785Z",
     "iopub.status.busy": "2022-07-18T13:12:14.814114Z",
     "iopub.status.idle": "2022-07-18T13:12:14.819822Z",
     "shell.execute_reply": "2022-07-18T13:12:14.819069Z"
    },
    "papermill": {
     "duration": 0.018602,
     "end_time": "2022-07-18T13:12:14.822047",
     "exception": false,
     "start_time": "2022-07-18T13:12:14.803445",
     "status": "completed"
    },
    "tags": []
   },
   "outputs": [],
   "source": [
    "# longitude & latitude\n",
    "# declare an empty list to store\n",
    "# latitude and longitude of values\n",
    "# of city column\n",
    "longitude = []\n",
    "latitude = []\n",
    "\n",
    "\n",
    "# function to find the coordinate\n",
    "# of a given city\n",
    "def findGeocode(city):\n",
    "    # try and catch is used to overcome\n",
    "    # the exception thrown by geolocator\n",
    "    # using geocodertimedout\n",
    "    try:\n",
    "\n",
    "        # Specify the user_agent as your\n",
    "        # app name it should not be none\n",
    "        geolocator = Nominatim(user_agent=\"your_app_name\")\n",
    "\n",
    "        return geolocator.geocode(city)\n",
    "\n",
    "    except GeocoderTimedOut:\n",
    "\n",
    "        return findGeocode(city)"
   ]
  },
  {
   "cell_type": "code",
   "execution_count": 13,
   "id": "5b71380e",
   "metadata": {
    "execution": {
     "iopub.execute_input": "2022-07-18T13:12:14.842647Z",
     "iopub.status.busy": "2022-07-18T13:12:14.841941Z",
     "iopub.status.idle": "2022-07-18T13:12:37.761796Z",
     "shell.execute_reply": "2022-07-18T13:12:37.760638Z"
    },
    "papermill": {
     "duration": 22.933691,
     "end_time": "2022-07-18T13:12:37.764871",
     "exception": false,
     "start_time": "2022-07-18T13:12:14.831180",
     "status": "completed"
    },
    "tags": []
   },
   "outputs": [],
   "source": [
    "# with above function we check df1\n",
    "for i in (df1[\"location\"]):\n",
    "\n",
    "    if findGeocode(i) != None:\n",
    "\n",
    "        loc = findGeocode(i)\n",
    "\n",
    "        # coordinates returned from\n",
    "        # function is stored into\n",
    "        # two separate list\n",
    "        latitude.append(loc.latitude)\n",
    "        longitude.append(loc.longitude)\n",
    "\n",
    "    # if coordinate for a city not\n",
    "    # found, insert \"NaN\" indicating\n",
    "    # missing value\n",
    "    else:\n",
    "        latitude.append(np.nan)\n",
    "        longitude.append(np.nan)"
   ]
  },
  {
   "cell_type": "markdown",
   "id": "0fb47143",
   "metadata": {
    "papermill": {
     "duration": 0.00844,
     "end_time": "2022-07-18T13:12:37.782277",
     "exception": false,
     "start_time": "2022-07-18T13:12:37.773837",
     "status": "completed"
    },
    "tags": []
   },
   "source": [
    "<a id = \"8\"></a><br>\n",
    "# 8. Outputs"
   ]
  },
  {
   "cell_type": "code",
   "execution_count": 14,
   "id": "318c215d",
   "metadata": {
    "execution": {
     "iopub.execute_input": "2022-07-18T13:12:37.801985Z",
     "iopub.status.busy": "2022-07-18T13:12:37.801461Z",
     "iopub.status.idle": "2022-07-18T13:12:37.817412Z",
     "shell.execute_reply": "2022-07-18T13:12:37.816459Z"
    },
    "papermill": {
     "duration": 0.028533,
     "end_time": "2022-07-18T13:12:37.819682",
     "exception": false,
     "start_time": "2022-07-18T13:12:37.791149",
     "status": "completed"
    },
    "tags": []
   },
   "outputs": [
    {
     "data": {
      "text/html": [
       "<div>\n",
       "<style scoped>\n",
       "    .dataframe tbody tr th:only-of-type {\n",
       "        vertical-align: middle;\n",
       "    }\n",
       "\n",
       "    .dataframe tbody tr th {\n",
       "        vertical-align: top;\n",
       "    }\n",
       "\n",
       "    .dataframe thead th {\n",
       "        text-align: right;\n",
       "    }\n",
       "</style>\n",
       "<table border=\"1\" class=\"dataframe\">\n",
       "  <thead>\n",
       "    <tr style=\"text-align: right;\">\n",
       "      <th></th>\n",
       "      <th>location</th>\n",
       "      <th>country</th>\n",
       "      <th>Longitude</th>\n",
       "      <th>Latitude</th>\n",
       "    </tr>\n",
       "  </thead>\n",
       "  <tbody>\n",
       "    <tr>\n",
       "      <th>12</th>\n",
       "      <td>New York</td>\n",
       "      <td>United States</td>\n",
       "      <td>-74.006</td>\n",
       "      <td>40.713</td>\n",
       "    </tr>\n",
       "    <tr>\n",
       "      <th>126</th>\n",
       "      <td>Toronto</td>\n",
       "      <td>Canada</td>\n",
       "      <td>-79.384</td>\n",
       "      <td>43.653</td>\n",
       "    </tr>\n",
       "    <tr>\n",
       "      <th>234</th>\n",
       "      <td>San Diego</td>\n",
       "      <td>United States</td>\n",
       "      <td>-117.163</td>\n",
       "      <td>32.717</td>\n",
       "    </tr>\n",
       "    <tr>\n",
       "      <th>366</th>\n",
       "      <td>Portland</td>\n",
       "      <td>United States</td>\n",
       "      <td>-122.674</td>\n",
       "      <td>45.520</td>\n",
       "    </tr>\n",
       "    <tr>\n",
       "      <th>3002</th>\n",
       "      <td>San Diego</td>\n",
       "      <td>Venezuela</td>\n",
       "      <td>-117.163</td>\n",
       "      <td>32.717</td>\n",
       "    </tr>\n",
       "    <tr>\n",
       "      <th>3033</th>\n",
       "      <td>Ontario</td>\n",
       "      <td>United States</td>\n",
       "      <td>-86.001</td>\n",
       "      <td>50.001</td>\n",
       "    </tr>\n",
       "    <tr>\n",
       "      <th>3183</th>\n",
       "      <td>Mexico</td>\n",
       "      <td>Philippines</td>\n",
       "      <td>-102.008</td>\n",
       "      <td>23.659</td>\n",
       "    </tr>\n",
       "    <tr>\n",
       "      <th>14368</th>\n",
       "      <td>Wageningen</td>\n",
       "      <td>Netherlands</td>\n",
       "      <td>5.668</td>\n",
       "      <td>51.969</td>\n",
       "    </tr>\n",
       "    <tr>\n",
       "      <th>17685</th>\n",
       "      <td>Ocean</td>\n",
       "      <td>United States</td>\n",
       "      <td>-74.332</td>\n",
       "      <td>39.978</td>\n",
       "    </tr>\n",
       "    <tr>\n",
       "      <th>24318</th>\n",
       "      <td>Thompson</td>\n",
       "      <td>United States</td>\n",
       "      <td>-97.863</td>\n",
       "      <td>55.743</td>\n",
       "    </tr>\n",
       "    <tr>\n",
       "      <th>25479</th>\n",
       "      <td>Thompson</td>\n",
       "      <td>Canada</td>\n",
       "      <td>-97.863</td>\n",
       "      <td>55.743</td>\n",
       "    </tr>\n",
       "    <tr>\n",
       "      <th>28028</th>\n",
       "      <td>Mexico</td>\n",
       "      <td>United States</td>\n",
       "      <td>-102.008</td>\n",
       "      <td>23.659</td>\n",
       "    </tr>\n",
       "    <tr>\n",
       "      <th>30269</th>\n",
       "      <td>Portland</td>\n",
       "      <td>Australia</td>\n",
       "      <td>-122.674</td>\n",
       "      <td>45.520</td>\n",
       "    </tr>\n",
       "    <tr>\n",
       "      <th>34478</th>\n",
       "      <td>San Diego</td>\n",
       "      <td>Guatemala</td>\n",
       "      <td>-117.163</td>\n",
       "      <td>32.717</td>\n",
       "    </tr>\n",
       "    <tr>\n",
       "      <th>36518</th>\n",
       "      <td>Palsa</td>\n",
       "      <td>India</td>\n",
       "      <td>87.867</td>\n",
       "      <td>24.481</td>\n",
       "    </tr>\n",
       "    <tr>\n",
       "      <th>43031</th>\n",
       "      <td>Ontario</td>\n",
       "      <td>Canada</td>\n",
       "      <td>-86.001</td>\n",
       "      <td>50.001</td>\n",
       "    </tr>\n",
       "    <tr>\n",
       "      <th>43122</th>\n",
       "      <td>Quebec</td>\n",
       "      <td>Canada</td>\n",
       "      <td>-71.826</td>\n",
       "      <td>52.476</td>\n",
       "    </tr>\n",
       "    <tr>\n",
       "      <th>43162</th>\n",
       "      <td>Minnesota</td>\n",
       "      <td>United States</td>\n",
       "      <td>-94.611</td>\n",
       "      <td>45.990</td>\n",
       "    </tr>\n",
       "    <tr>\n",
       "      <th>43463</th>\n",
       "      <td>Alberta</td>\n",
       "      <td>Canada</td>\n",
       "      <td>-115.002</td>\n",
       "      <td>55.001</td>\n",
       "    </tr>\n",
       "    <tr>\n",
       "      <th>43622</th>\n",
       "      <td>Manitoba</td>\n",
       "      <td>Canada</td>\n",
       "      <td>-97.001</td>\n",
       "      <td>55.001</td>\n",
       "    </tr>\n",
       "    <tr>\n",
       "      <th>45052</th>\n",
       "      <td>Alaska</td>\n",
       "      <td>United States</td>\n",
       "      <td>-149.681</td>\n",
       "      <td>64.446</td>\n",
       "    </tr>\n",
       "    <tr>\n",
       "      <th>45423</th>\n",
       "      <td>New Hampshire</td>\n",
       "      <td>United States</td>\n",
       "      <td>-71.655</td>\n",
       "      <td>43.485</td>\n",
       "    </tr>\n",
       "    <tr>\n",
       "      <th>51057</th>\n",
       "      <td>Portland</td>\n",
       "      <td>Jamaica</td>\n",
       "      <td>-122.674</td>\n",
       "      <td>45.520</td>\n",
       "    </tr>\n",
       "  </tbody>\n",
       "</table>\n",
       "</div>"
      ],
      "text/plain": [
       "            location        country  Longitude  Latitude\n",
       "12          New York  United States    -74.006    40.713\n",
       "126          Toronto         Canada    -79.384    43.653\n",
       "234        San Diego  United States   -117.163    32.717\n",
       "366         Portland  United States   -122.674    45.520\n",
       "3002       San Diego      Venezuela   -117.163    32.717\n",
       "3033         Ontario  United States    -86.001    50.001\n",
       "3183          Mexico    Philippines   -102.008    23.659\n",
       "14368     Wageningen    Netherlands      5.668    51.969\n",
       "17685          Ocean  United States    -74.332    39.978\n",
       "24318       Thompson  United States    -97.863    55.743\n",
       "25479       Thompson         Canada    -97.863    55.743\n",
       "28028         Mexico  United States   -102.008    23.659\n",
       "30269       Portland      Australia   -122.674    45.520\n",
       "34478      San Diego      Guatemala   -117.163    32.717\n",
       "36518          Palsa          India     87.867    24.481\n",
       "43031        Ontario         Canada    -86.001    50.001\n",
       "43122         Quebec         Canada    -71.826    52.476\n",
       "43162      Minnesota  United States    -94.611    45.990\n",
       "43463        Alberta         Canada   -115.002    55.001\n",
       "43622       Manitoba         Canada    -97.001    55.001\n",
       "45052         Alaska  United States   -149.681    64.446\n",
       "45423  New Hampshire  United States    -71.655    43.485\n",
       "51057       Portland        Jamaica   -122.674    45.520"
      ]
     },
     "execution_count": 14,
     "metadata": {},
     "output_type": "execute_result"
    }
   ],
   "source": [
    "# added new columns \"longitude\" and \"latitude\" in df1\n",
    "df1[\"Longitude\"] = longitude\n",
    "df1[\"Latitude\"] = latitude\n",
    "\n",
    "df1"
   ]
  },
  {
   "cell_type": "code",
   "execution_count": 15,
   "id": "8d1df440",
   "metadata": {
    "execution": {
     "iopub.execute_input": "2022-07-18T13:12:37.840072Z",
     "iopub.status.busy": "2022-07-18T13:12:37.839178Z",
     "iopub.status.idle": "2022-07-18T13:12:37.843621Z",
     "shell.execute_reply": "2022-07-18T13:12:37.842541Z"
    },
    "papermill": {
     "duration": 0.017171,
     "end_time": "2022-07-18T13:12:37.845926",
     "exception": false,
     "start_time": "2022-07-18T13:12:37.828755",
     "status": "completed"
    },
    "tags": []
   },
   "outputs": [],
   "source": [
    "# export csv\n",
    "# df1.to_csv(\"moore1995.csv\")"
   ]
  },
  {
   "cell_type": "markdown",
   "id": "d0408a98",
   "metadata": {
    "papermill": {
     "duration": 0.008606,
     "end_time": "2022-07-18T13:12:37.863740",
     "exception": false,
     "start_time": "2022-07-18T13:12:37.855134",
     "status": "completed"
    },
    "tags": []
   },
   "source": [
    "<a id = \"9\"></a><br>\n",
    "# 9. References\n",
    "\n",
    "* https://www.youtube.com/watch?v=N6Su4Hk8_-g\n",
    "\n",
    "* https://stackoverflow.com/questions/52686159/how-to-extract-the-location-name-country-name-city-name-tourist-places-by-usi\n",
    "\n",
    "* https://www.youtube.com/watch?v=gJMHbW3MK2w&t=843s\n",
    "\n",
    "* https://www.geeksforgeeks.org/how-to-find-longitude-and-latitude-for-a-list-of-regions-or-country-using-python/\n",
    "\n",
    "* https://www.youtube.com/watch?v=dIUTsFT2MeQ"
   ]
  }
 ],
 "metadata": {
  "kernelspec": {
   "display_name": "Python 3",
   "language": "python",
   "name": "python3"
  },
  "language_info": {
   "codemirror_mode": {
    "name": "ipython",
    "version": 3
   },
   "file_extension": ".py",
   "mimetype": "text/x-python",
   "name": "python",
   "nbconvert_exporter": "python",
   "pygments_lexer": "ipython3",
   "version": "3.7.12"
  },
  "papermill": {
   "default_parameters": {},
   "duration": 88.775272,
   "end_time": "2022-07-18T13:12:40.536817",
   "environment_variables": {},
   "exception": null,
   "input_path": "__notebook__.ipynb",
   "output_path": "__notebook__.ipynb",
   "parameters": {},
   "start_time": "2022-07-18T13:11:11.761545",
   "version": "2.3.4"
  }
 },
 "nbformat": 4,
 "nbformat_minor": 5
}
